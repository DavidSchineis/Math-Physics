{
  "cells": [
    {
      "cell_type": "markdown",
      "metadata": {
        "id": "view-in-github",
        "colab_type": "text"
      },
      "source": [
        "<a href=\"https://colab.research.google.com/github/DavidSchineis/Math-Physics/blob/main/Copy_of_Lab_5.ipynb\" target=\"_parent\"><img src=\"https://colab.research.google.com/assets/colab-badge.svg\" alt=\"Open In Colab\"/></a>"
      ]
    },
    {
      "cell_type": "markdown",
      "source": [
        "#Abstract\n",
        "This lab uses vector math and calculus to visualize vector fields and verify Stokes Theorem. We began by using scipy.interpolate to take line integrals and we tested its accuracy by comparing it with hand calculated integral solutions as well as directly plotting the integral. After this, we moved onto vector fields taking and visualizing the gradient, divergence, and curls in 3D. Then, we used these tools to verify the Stokes Theorem on a square and then on a quarter circle. In both cases the surface integral of the curl matched the circulation near boundary, verifying Stokes Theorem."
      ],
      "metadata": {
        "id": "jd_YsyfwqNql"
      },
      "id": "jd_YsyfwqNql"
    },
    {
      "cell_type": "code",
      "execution_count": null,
      "id": "51f35b4c",
      "metadata": {
        "id": "51f35b4c"
      },
      "outputs": [],
      "source": [
        "import numpy as np\n",
        "import matplotlib.pyplot as plt\n",
        "import plotly.graph_objects as go\n",
        "from numpy import cos, sin, tan, cosh, sinh, tanh"
      ]
    },
    {
      "cell_type": "markdown",
      "id": "d563114b",
      "metadata": {
        "id": "d563114b"
      },
      "source": [
        "Last time we have performed numerical integration and differentiation, as well as more complex partial differentiation in order to calculate gradient, divergence, and curl. Throughout this lab, it may be useful to refer back to it on occasion.\n"
      ]
    },
    {
      "cell_type": "markdown",
      "id": "7c98a98e",
      "metadata": {
        "id": "7c98a98e"
      },
      "source": [
        "2d integrals function similarly to partial derivatives. You simply need to repeat the integration twice, first with respect to x along axis=0. This will reduce it to a 1d array that you can then integrate with respect to y (axis would not need to be specified, since axis=1 no longer exists).\n",
        "\n",
        "We will first numerically compute a 2d integral of $$f(x,y)=\\sqrt{x}+y^2$$ for x from 0 to 1, and for y from -1 to 1. Confirm it through integrating it on paper.\n",
        "\n",
        "Remember that for meshgrid, indexing should be set to 'ij' to keep the convention of axis=0 being associated with x axis."
      ]
    },
    {
      "cell_type": "code",
      "execution_count": null,
      "id": "c51dc59d",
      "metadata": {
        "id": "c51dc59d"
      },
      "outputs": [],
      "source": [
        "x,y=np.arange(0,1,0.001),np.arange(-1,1,0.001)\n",
        "xx,yy = np.meshgrid(x,y, indexing='ij')\n",
        "\n",
        "fxy=np.sqrt(xx) + yy**2\n",
        "\n",
        "Ix=np.trapezoid(fxy,x,axis=0)\n",
        "Ixy=np.trapezoid(Ix,y)\n",
        "\n",
        "print(Ixy)"
      ]
    },
    {
      "cell_type": "markdown",
      "id": "21e63dd9",
      "metadata": {
        "id": "21e63dd9"
      },
      "source": [
        "It's also possible to do arbitrary line inegrals by evaluating the value of the function along the line, and then integrating the resulting array. It is possible to do it two different ways.\n",
        "\n",
        "If we know the function explicitly - we do not necessarily need a meshgrid.\n",
        "Create variables x1 from 0 to 0.5 and y1 that follows $y=\\sqrt{x}$. Then evauate the same f(x,y) as above, make sure to use a unique variable name for all of them, without reusing existing ones.\n",
        "\n",
        "Then use pcolormesh to plot fxy above, and plot x1 vs y1 on top of it."
      ]
    },
    {
      "cell_type": "code",
      "execution_count": null,
      "id": "972ecf02",
      "metadata": {
        "id": "972ecf02"
      },
      "outputs": [],
      "source": [
        "c=plt.pcolormesh(xx, yy, fxy,vmin=0,vmax=1.5)\n",
        "plt.colorbar(c,label='f(x,y)')\n",
        "x1=np.linspace(0,0.5)\n",
        "y1=np.sqrt(x1)\n",
        "\n",
        "plt.plot(x1,y1)\n",
        "\n",
        "fxy1=np.sqrt(x1) + y1**2\n",
        "plt.show()"
      ]
    },
    {
      "cell_type": "markdown",
      "source": [
        "### Caption\n",
        "This plots f(x,y) = sqrt(x) + y^2 as a colormap and y = sqrt(x) overlayed."
      ],
      "metadata": {
        "id": "pl0EvD_cmpMV"
      },
      "id": "pl0EvD_cmpMV"
    },
    {
      "cell_type": "markdown",
      "id": "c1cb12b1",
      "metadata": {
        "id": "c1cb12b1"
      },
      "source": [
        "Alternatively, when we do not necessarily know the function, but we do have a 2d array of values, we can interpolate across it."
      ]
    },
    {
      "cell_type": "code",
      "execution_count": null,
      "id": "63aa6532",
      "metadata": {
        "id": "63aa6532"
      },
      "outputs": [],
      "source": [
        "from scipy.interpolate import RegularGridInterpolator\n",
        "interp = RegularGridInterpolator((x, y), fxy) #creates a function that associates existing x & y\n",
        "                                                #grid points with the 2d array off the function\n",
        "fxy2=interp((x1,y1))\n",
        "\n",
        "plt.plot(fxy1,fxy2)\n",
        "plt.xlabel('f(x,y) obtained from evaluating the function')\n",
        "plt.ylabel('f(x,y) obtained from interpolation')\n",
        "plt.show()"
      ]
    },
    {
      "cell_type": "markdown",
      "source": [
        "### Caption\n",
        "This plots f(x,y) = sqrt(x) + y^2 evaluated by the function (x-axis) versus evaluated by interpolating the 2D grid (y-axis). The result is diagonal, showing agreement between the two evaluations."
      ],
      "metadata": {
        "id": "_I4dPVNm33pZ"
      },
      "id": "_I4dPVNm33pZ"
    },
    {
      "cell_type": "markdown",
      "id": "6d5a2c78",
      "metadata": {
        "id": "6d5a2c78"
      },
      "source": [
        "When evaluating this line integral, we evaluate it with respect to the evenly spaced x1 that was used to define all of these expressions. Compare integration of both fxy1 and fxy2."
      ]
    },
    {
      "cell_type": "code",
      "execution_count": null,
      "id": "d0000adc",
      "metadata": {
        "id": "d0000adc"
      },
      "outputs": [],
      "source": [
        "I1=np.trapezoid(fxy1, x1, axis=0)\n",
        "I2=np.trapezoid(fxy2, x1, axis=0)\n",
        "\n",
        "print('Line integral of f(x,y) is', I1,'using direct evaluation along the line')\n",
        "print('Line integral of f(x,y) is', I2,'using interpolation along the line')"
      ]
    },
    {
      "cell_type": "markdown",
      "id": "52d03672",
      "metadata": {
        "id": "52d03672"
      },
      "source": [
        "Evaluate the value of the line integral yourself to confirm."
      ]
    },
    {
      "cell_type": "markdown",
      "id": "f82d8bc3",
      "metadata": {
        "id": "f82d8bc3"
      },
      "source": [
        "Returning back to the surface integrals, so far we have evaluated it over a rectangular area. Doing arbitrary shaped area integrals is not much harder - you just need to mask out (i.e., set to 0) the value of $f(x,y)$ outside of your area."
      ]
    },
    {
      "cell_type": "code",
      "execution_count": null,
      "id": "69965455",
      "metadata": {
        "id": "69965455"
      },
      "outputs": [],
      "source": [
        "fxy3=fxy.copy()\n",
        "\n",
        "a=np.where((yy<0) | (xx>0.5) | (np.sqrt(xx)<y))\n",
        "#the paretheses are important between multiple expressions\n",
        "fxy3[a]=0\n",
        "\n",
        "#display the resulting array and integrate over it\n",
        "c=plt.pcolormesh(xx, yy, fxy3)\n",
        "plt.colorbar(c,label='f(x,y)')\n",
        "plt.show()\n",
        "\n",
        "Ix=np.trapezoid(fxy,x,axis=0)\n",
        "Ixy=np.trapezoid(Ix,y)\n",
        "print('area',Ixy)"
      ]
    },
    {
      "cell_type": "markdown",
      "source": [
        "### Caption\n",
        "This plots the integral of f(x,y) = sqrt(x) + y^2 as a colormap where we masked out any values outside of f(x,y) to show only the integral values."
      ],
      "metadata": {
        "id": "wHRAP8Dj30eR"
      },
      "id": "wHRAP8Dj30eR"
    },
    {
      "cell_type": "markdown",
      "id": "a7ae956a",
      "metadata": {
        "id": "a7ae956a"
      },
      "source": [
        "## Stokes theorem\n",
        "\n",
        "Now, using these computational techniques, we can confirm the Stokes theorem numerically.\n",
        "\n",
        "We will begin with the function $$\\vec{v}=(\\cos{x}\\sinh{y}\\tan{z})\\hat{x}+(\\sin{x}\\tanh{y}\\cos{z})\\hat{y}+(\\tan{x}\\cosh{y}\\sin{z})\\hat{z}$$\n",
        "\n",
        "We will use the surface defined by coordinates of $(1,0,0),(1,1,0),(1,1,1),(1,0,1)$.\n",
        "\n",
        "Take the curl of the vector, perform an area integral of the resulting curl. Then compare it to the sum of 4 line integrals. Use the plot to ensure self-consistency of the orientation."
      ]
    },
    {
      "cell_type": "code",
      "execution_count": null,
      "id": "3723e80d",
      "metadata": {
        "scrolled": false,
        "id": "3723e80d"
      },
      "outputs": [],
      "source": [
        "#function to define vector v\n",
        "def vector(xx,yy,zz):\n",
        "    vx=cos(xx)*sinh(yy)*tan(zz)\n",
        "    vy=sin(xx)*tanh(yy)*cos(zz)\n",
        "    vz=tan(xx)*cosh(yy)*sin(zz)\n",
        "    return(vx,vy,vz)\n",
        "\n",
        "#function to define\n",
        "def curl(x,y,z,vx,vy,vz):\n",
        "    cx=(np.gradient(vz,y,axis=1) - np.gradient(vy,z,axis=2))\n",
        "    cy=(np.gradient(vx,z,axis=2) - np.gradient(vz,x,axis=0))\n",
        "    cz=(np.gradient(vy,x,axis=0) - np.gradient(vx,y,axis=1))\n",
        "    return(cx,cy,cz)\n",
        "\n",
        "#function that returns a plane defined by 3 set points in 3d space, a, b, c\n",
        "def surface(a,b,c,u,v,axis='xy'):\n",
        "    a,b,c=np.array(a),np.array(b),np.array(c)\n",
        "    normal = np.cross(b-a,c-a)\n",
        "    d = np.dot(a,normal)\n",
        "    if (axis=='xy') | ((normal[0]==0) & (normal[1]==0)):\n",
        "        xs,ys=np.meshgrid(u,v, indexing='ij')\n",
        "        zs=(-normal[0] * xs - normal[1] * ys + d) * 1. / normal[2]\n",
        "    if (axis=='yz') | ((normal[1]==0) & (normal[2]==0)):\n",
        "        ys,zs=np.meshgrid(u,v, indexing='ij')\n",
        "        xs=(-normal[2] * zs - normal[1] * ys + d) * 1. / normal[0]\n",
        "    if (axis=='xz') | ((normal[0]==0) & (normal[2]==0)):\n",
        "        xs,zs=np.meshgrid(u,v, indexing='ij')\n",
        "        ys=(-normal[0] * xs - normal[2] * zs + d) * 1. / normal[1]\n",
        "\n",
        "    normal=normal/np.sqrt(np.sum(normal**2))\n",
        "    return normal,xs,ys,zs\n",
        "\n",
        "#interpolates 3d vectors along a given 2d surface. Also, 2d surface along 1d line\n",
        "def interpNd(axes,vector,value):\n",
        "    interp_cxs = RegularGridInterpolator(axes, vector[0])\n",
        "    interp_cys = RegularGridInterpolator(axes, vector[1])\n",
        "    interp_czs = RegularGridInterpolator(axes, vector[2])\n",
        "    x=interp_cxs(value)\n",
        "    y=interp_cys(value)\n",
        "    z=interp_czs(value)\n",
        "    return x,y,z\n",
        "\n",
        "\n",
        "#plot of the result\n",
        "def makeplot(xx,yy,zz,xs,ys,zs,cxs,cys,czs):\n",
        "    fig = go.Figure()\n",
        "\n",
        "    fig.add_trace(go.Isosurface(\n",
        "        x=xx.flatten(),\n",
        "        y=yy.flatten(),\n",
        "        z=zz.flatten(),\n",
        "        value=(xx*0).flatten(),\n",
        "        opacity=0.3,\n",
        "        showscale=False\n",
        "        ))\n",
        "    fig.add_trace(go.Surface(\n",
        "        x=xs,\n",
        "        y=ys,\n",
        "        z=zs,\n",
        "        showscale=False\n",
        "        ))\n",
        "\n",
        "\n",
        "    fig.add_trace(go.Cone(\n",
        "        x=xs.flatten(),\n",
        "        y=ys.flatten(),\n",
        "        z=zs.flatten(),\n",
        "        u=cxs.flatten(),\n",
        "        v=cys.flatten(),\n",
        "        w=czs.flatten(),\n",
        "        colorscale='bluered_r',\n",
        "        cmin=0,\n",
        "        cmax=0.0001,\n",
        "        name='curl v(x,y,z)',\n",
        "        sizeref=1,\n",
        "        showlegend=False,\n",
        "        showscale=False))\n",
        "    return fig\n",
        "\n",
        "x,y,z=np.linspace(0,1,20),np.linspace(0,1,20),np.linspace(0,1,20) #defines the axes\n",
        "xx,yy,zz = np.meshgrid(x,y,z, indexing='ij') #creates a mesh of points\n",
        "vx,vy,vz=vector(xx,yy,zz) #creates vector v\n",
        "cx,cy,cz=curl(x,y,z,vx,vy,vz) # takes curl of vector v\n",
        "\n",
        "\n",
        "u=np.linspace(0,1,20)\n",
        "v=np.linspace(0,1,30)\n",
        "normal,xs,ys,zs=surface((1,0,0),(1,1,0),(1,0,1),u,v,axis='yz') #defines a surface from 3 points; u & v are used to reference any points on this surface\n",
        "#normal is a vector that is perpendicular to this surface;\n",
        "#normal[0] is the x hat component, normal[1] is the y hat component, normal[2] is the z hat component\n",
        "\n",
        "vxs,vys,vzs=vector(xs,ys,zs) #vector along the surface\n",
        "print(normal)\n",
        "cxs,cys,czs=interpNd((x,y,z),(cx,cy,cz),(xs,ys,zs)) #interpolates curl vector to a given surface\n",
        "\n",
        "#take a dot product of normal vector and the curl interpolated along the surface\n",
        "dot=(normal[0]*cxs + normal[1]*cys + normal[2]*czs)\n",
        "\n",
        "#2d integral of dot, first with respect to u along axis=0, and with respect to v\n",
        "Ia = np.trapezoid(dot, u, axis=0)\n",
        "area = np.trapezoid(Ia, v, axis=0)\n",
        "print('Area integral of the curl is',np.round(area,5))\n",
        "\n",
        "#Interpolating vector v onto the line defined by x1=1,y1=y,z1=0\n",
        "x1=np.ones(20)\n",
        "y1=np.linspace(0,1,20)\n",
        "z1=np.zeros(20)\n",
        "ix,iy,iz=interpNd((u,v),(vxs,vys,vzs),(y1,z1)) #our plane is defined in the yz plane\n",
        "a=(np.trapezoid(ix,x1)+np.trapezoid(iy,y1)+np.trapezoid(iz,z1))\n",
        "\n",
        "\n",
        "\n",
        "\n",
        "\n",
        "\n",
        "\n",
        "\n",
        "\n",
        "\n",
        "#find other 3 line integrals to fully enclose the surface; ensure that you are going in a consistent direction around the perimeter\n",
        "#(i.e, sometimes you need to define linspace of your coordinates to be from 0 to 1, and sometimes from 1 to 0)\n",
        "\n",
        "\n",
        "yb = np.ones(20)\n",
        "zb = np.linspace(0,1,20)\n",
        "ix,iy,iz = interpNd((u,v),(vxs,vys,vzs),(yb,zb))\n",
        "b = np.trapezoid(ix, np.ones_like(zb)) + np.trapezoid(iy, yb) + np.trapezoid(iz, zb)\n",
        "\n",
        "\n",
        "\n",
        "yc = np.linspace(1,0,20)\n",
        "zc = np.ones(20)\n",
        "ix,iy,iz = interpNd((u,v),(vxs,vys,vzs),(yc,zc))\n",
        "c = np.trapezoid(ix, np.ones_like(yc)) + np.trapezoid(iy, yc) + np.trapezoid(iz, zc)\n",
        "\n",
        "\n",
        "yd = np.zeros(20)\n",
        "zd = np.linspace(1,0,20)\n",
        "ix,iy,iz = interpNd((u,v),(vxs,vys,vzs),(yd,zd))\n",
        "d = np.trapezoid(ix, np.ones_like(zd)) + np.trapezoid(iy, yd) + np.trapezoid(iz, zd)\n",
        "\n",
        "\n",
        "\n",
        "#sum these 4 line integrals together to confirm Stokes theorem. Make sure you have correct direction for the lines\n",
        "print('Line integral of the vector is',np.round(a+b+c+d,5))\n",
        "\n",
        "#use this to help you orient yourself in the 3d space to define your line integrals\n",
        "fig=makeplot(xx,yy,zz,xs,ys,zs,cxs,cys,czs)\n",
        "fig.add_trace(go.Scatter3d(\n",
        "        x=x1,\n",
        "        y=y1,\n",
        "        z=z1))\n",
        "fig.show()"
      ]
    },
    {
      "cell_type": "markdown",
      "source": [
        "### Caption\n",
        "This plots Stokes Theorem on 𝑣⃗=(cos𝑥sinh𝑦tan𝑧)𝑥̂+(sin𝑥tanh𝑦cos𝑧)𝑦̂+(tan𝑥cosh𝑦sin𝑧)𝑧̂. The colormapped surface represents the x=1 plane while the cones are the curl field being applied."
      ],
      "metadata": {
        "id": "FUmutlOW7wvz"
      },
      "id": "FUmutlOW7wvz"
    },
    {
      "cell_type": "markdown",
      "id": "300c617d",
      "metadata": {
        "id": "300c617d"
      },
      "source": [
        "## Now repeat this, using the same function and in the same plane, but across an area defined by a quarter-circle centerd at 0, satisfying $y^2+z^2<1$"
      ]
    },
    {
      "cell_type": "code",
      "execution_count": null,
      "id": "1021e96b",
      "metadata": {
        "id": "1021e96b"
      },
      "outputs": [],
      "source": [
        "cxs,cys,czs=interpNd((x,y,z),(cx,cy,cz),(xs,ys,zs)) #interpolates curl vector to a given surface\n",
        "\n",
        "\n",
        "a=np.where((ys**2 + zs**2) > 1) # conditional statement that depends on ys and zs (not y & z!)\n",
        "             # to select the area _outside_ the circle (i.e., inverse of the stated criteria that we want to keep);\n",
        "             # we will use it to mask out an area of the square surface along which curl is defined\n",
        "             # that does not satisfy our condition\n",
        "cxs[a]=0\n",
        "cys[a]=0\n",
        "czs[a]=0\n",
        "\n",
        "dot=(normal[0]*cxs + normal[1]*cys + normal[2]*czs)\n",
        "Ia = np.trapezoid(dot, u, axis=0)\n",
        "area = np.trapezoid(Ia, v)\n",
        "print('Area integral of the curl is',np.round(area,5))\n",
        "\n",
        "\n",
        "theta=np.linspace(0,np.pi/2,20)\n",
        "#find 3 line integrals to fully enclose the resulting surface.\n",
        "#One of these lines will need to depend on angle theta provided above to appropriately define the quarter circle\n",
        "\n",
        "y_arc = cos(theta)\n",
        "z_arc = sin(theta)\n",
        "ix,iy,iz = interpNd((u,v),(vxs,vys,vzs),(y_arc, z_arc))\n",
        "a = np.trapezoid( iy * (-np.sin(theta)) + iz * (np.cos(theta)), theta )\n",
        "\n",
        "z_rad = np.linspace(1,0,20)\n",
        "y_rad = np.zeros(20)\n",
        "ix,iy,iz = interpNd((u,v),(vxs,vys,vzs),(y_rad, z_rad))\n",
        "b = np.trapezoid(iz, z_rad)\n",
        "\n",
        "y_rad = np.linspace(0,1,20)\n",
        "z_rad = np.zeros(20)\n",
        "ix,iy,iz = interpNd((u,v),(vxs,vys,vzs),(y_rad, z_rad))\n",
        "c = np.trapezoid(iy, y_rad)\n",
        "\n",
        "print('Line integral of the vector is',np.round(a+b+c,5))\n",
        "\n",
        "fig=makeplot(xx,yy,zz,xs,ys,zs,cxs,cys,czs)\n",
        "\n",
        "fig.add_trace(go.Scatter3d(\n",
        "        x=np.ones(20),\n",
        "        y=np.cos(np.linspace(0,np.pi/2,20)),\n",
        "        z=np.sin(np.linspace(0,np.pi/2,20))))\n",
        "\n",
        "fig.show()"
      ]
    },
    {
      "cell_type": "markdown",
      "source": [
        "### Caption\n",
        "This plots Stokes Theorem on 𝑣⃗=(cos𝑥sinh𝑦tan𝑧)𝑥̂+(sin𝑥tanh𝑦cos𝑧)𝑦̂+(tan𝑥cosh𝑦sin𝑧)𝑧̂. The colormapped surface represents the x=1 plane which includes a quarter circle while the cones are the curl field being applied."
      ],
      "metadata": {
        "id": "-HchhfLBD91B"
      },
      "id": "-HchhfLBD91B"
    },
    {
      "cell_type": "markdown",
      "id": "98fad88c",
      "metadata": {
        "id": "98fad88c"
      },
      "source": [
        "## Extra credit\n",
        "\n",
        "A vector field is given in cyclindrical coordinates by $$\\vec{v}=s^2\\hat{\\phi}$$\n",
        "Verify Stokes theorem using a shape given by a circle with radius 1 on xy plane"
      ]
    },
    {
      "cell_type": "code",
      "execution_count": null,
      "id": "e57c8288",
      "metadata": {
        "id": "e57c8288"
      },
      "outputs": [],
      "source": [
        "#def vector(xx,yy,zz):\n",
        "#    s= #depends on the cartesian coordinates\n",
        "#    phi=np.arctan2(yy,xx)\n",
        "#    vx=#\n",
        "#    vy=#\n",
        "#    vz=#\n",
        "#    return(vx,vy,vz)"
      ]
    }
  ],
  "metadata": {
    "kernelspec": {
      "display_name": "Python 3",
      "name": "python3"
    },
    "language_info": {
      "codemirror_mode": {
        "name": "ipython",
        "version": 3
      },
      "file_extension": ".py",
      "mimetype": "text/x-python",
      "name": "python",
      "nbconvert_exporter": "python",
      "pygments_lexer": "ipython3",
      "version": "3.9.7"
    },
    "colab": {
      "provenance": [],
      "generative_ai_disabled": true,
      "include_colab_link": true
    }
  },
  "nbformat": 4,
  "nbformat_minor": 5
}