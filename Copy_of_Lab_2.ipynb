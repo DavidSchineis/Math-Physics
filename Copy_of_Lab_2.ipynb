{
  "cells": [
    {
      "cell_type": "markdown",
      "metadata": {
        "id": "view-in-github",
        "colab_type": "text"
      },
      "source": [
        "<a href=\"https://colab.research.google.com/github/DavidSchineis/Math-Physics/blob/main/Copy_of_Lab_2.ipynb\" target=\"_parent\"><img src=\"https://colab.research.google.com/assets/colab-badge.svg\" alt=\"Open In Colab\"/></a>"
      ]
    },
    {
      "cell_type": "markdown",
      "source": [
        "# Lab 2 Abstract\n",
        "#### This lab initially covers different ways to iterate through For loops before introducing 3D visualizations using Eulers number and finally focusing on proving, approximating and visualizating a variety of complex numbers. This lab primarily looks at nth roots of complex numbers and verifying these roots through raising them back to original power, summing them to equal zero, or graphing them. Using 2D polar plots, we visualized the roots and verified that 2pi/n is the angle between all nth roots. We also created a n1 to n2 user-defined visualization with unique color and legend requirements. This was a good example of navigating a difficult space using different For loop techniques."
      ],
      "metadata": {
        "id": "_Iirpg7mrw5s"
      }
    },
    {
      "cell_type": "markdown",
      "source": [
        "----\n",
        "As always, we will begin with importing useful libraries."
      ],
      "metadata": {
        "id": "961vIHyUsFa-"
      }
    },
    {
      "cell_type": "code",
      "execution_count": null,
      "metadata": {
        "id": "vJGmzhRgJwIQ"
      },
      "outputs": [],
      "source": [
        "import matplotlib.pyplot as plt\n",
        "import numpy as np\n",
        "import plotly.graph_objects as go"
      ]
    },
    {
      "cell_type": "markdown",
      "metadata": {
        "id": "MJuJg6SdJwIR"
      },
      "source": [
        "This next cell uses the arange() function of numpy.  It creates an array based on the argument(s) you give.  These two uses (the real parts and the imaginary parts) demonstrate how it creates the array depending on the number of integer arguments you give.  In Python, an the complex unit is denoted by j rather than i.  If you complex number were $z=3+4i$, you would write that as z=3+4j in Python.  Notice that addition of arrays as well as complex numbers can be handled just by using the standard \"+\" sign.  You can only add the arrays though if they have the same size.  "
      ]
    },
    {
      "cell_type": "code",
      "execution_count": null,
      "metadata": {
        "id": "D_6Upl_DJwIS"
      },
      "outputs": [],
      "source": [
        "a=np.arange(5) + 1j*np.arange(6, 11)\n",
        "a"
      ]
    },
    {
      "cell_type": "markdown",
      "metadata": {
        "id": "KN6NCvPEJwIT"
      },
      "source": [
        "We see that the array has five elements (entries) all separated by a comma and is denoted by the square brackets."
      ]
    },
    {
      "cell_type": "code",
      "execution_count": null,
      "metadata": {
        "id": "haDna6nFJwIT"
      },
      "outputs": [],
      "source": [
        "print(len(a))"
      ]
    },
    {
      "cell_type": "markdown",
      "metadata": {
        "id": "uv28jY-wJwIU"
      },
      "source": [
        "You can sum all of the elements in the array using the \"sum\" function."
      ]
    },
    {
      "cell_type": "code",
      "execution_count": null,
      "metadata": {
        "id": "NnAoVxlLJwIU"
      },
      "outputs": [],
      "source": [
        "print(sum(a))"
      ]
    },
    {
      "cell_type": "markdown",
      "metadata": {
        "id": "BgGRewYEJwIV"
      },
      "source": [
        "This next cell will access a particular element (entry) in the array.  To do this, you write the name of the array followed immediately by square brackets with an integer inside them.  This integer is called index of the array element and it is like the address of the element.  The index thus tells which element of the array you will be accessing.  In Python, array element indicies begin with zero.  So this next cell will access the second element of the array."
      ]
    },
    {
      "cell_type": "code",
      "execution_count": null,
      "metadata": {
        "id": "2xgwAmfCJwIW"
      },
      "outputs": [],
      "source": [
        "a[1]"
      ]
    },
    {
      "cell_type": "markdown",
      "metadata": {
        "id": "3FsuFFNNJwIW"
      },
      "source": [
        "These next couple of cells show some methods find the complex conjugate, the absolute value, and the real and imaginary parts of a complex number"
      ]
    },
    {
      "cell_type": "code",
      "execution_count": null,
      "metadata": {
        "id": "TcC4gheyJwIX"
      },
      "outputs": [],
      "source": [
        "print('Conjugate', np.conjugate(a[1]))\n",
        "print('Absolute value',np.abs(a[1]))\n",
        "# Method 1\n",
        "print(a[1].real)\n",
        "print(a[1].imag)\n",
        "# Method 2\n",
        "print(np.real(a[1]))\n",
        "print(np.imag(a[1]))"
      ]
    },
    {
      "cell_type": "markdown",
      "metadata": {
        "id": "qqcrP3m8JwIX"
      },
      "source": [
        "This next cell will evaluate the sine and cosine of the fourth element of the a array.  **You should evaluate it yourself on paper first, and then check it with the python calculation.**  Notice that because the sine and cosine functions are both evaluated at complex numbers, the results are larger than 1."
      ]
    },
    {
      "cell_type": "code",
      "execution_count": null,
      "metadata": {
        "id": "it_VTESNJwIY"
      },
      "outputs": [],
      "source": [
        "print(np.cos(a[3]))\n",
        "print(np.sin(a[3]))"
      ]
    },
    {
      "cell_type": "markdown",
      "metadata": {
        "id": "EwkWc2uQJwIY"
      },
      "source": [
        "This next cell will evaluate the logarithm of the last element of the a array (remember the negative index counts from the end of the array starting at -1).  **You should evaluate it yourself on paper first,** and then check it with the python calculation."
      ]
    },
    {
      "cell_type": "code",
      "execution_count": null,
      "metadata": {
        "id": "2PKqWa6_JwIY"
      },
      "outputs": [],
      "source": [
        "print(np.log(a[-1]))"
      ]
    },
    {
      "cell_type": "markdown",
      "metadata": {
        "id": "4djocgR2JwIY"
      },
      "source": [
        "This next cell will evaluate the exponential of the 3rd element of the a array.  It accesses that array both by counting from the beginning and end of the array.  **You should evaluate it yourself on paper first,** and then check it with the python calculation."
      ]
    },
    {
      "cell_type": "code",
      "execution_count": null,
      "metadata": {
        "id": "2TyiGLb_JwIa"
      },
      "outputs": [],
      "source": [
        "print(np.exp(a[2]))\n",
        "print(np.exp(a[-3]))"
      ]
    },
    {
      "cell_type": "markdown",
      "metadata": {
        "id": "phWnvEOXJwIa"
      },
      "source": [
        "----\n",
        "This next two cells will create plots showing the complex numbers in our array. It will generate a line from the origin, to the $(x,y)$ point representing the complex number. Remember that for the plot function used here, it will draw a straight line connecting the points in the arrays passed as its first two arguments.\n",
        "\n",
        "The first array will be all of the $x$ coordinates and the second array will be all of the $y$ coordinates. In this case, for each iteration of the for loop, there are only two elements in each of the coordinate arrays (written in square brackets in the code): the origin, and then the real and imaginary part of the complex number for the second $x$ and $y$ coordinate, respectively.\n",
        "\n",
        "The only difference between the two cells is how the for loop iterates through the array and which functions you would call to get the real and imaginary parts of the complex numbers. Try to understand the differences between the two methods the for loops are implemented. The code will print out the iterator at each step of the for loop to try and help you see what is happening."
      ]
    },
    {
      "cell_type": "code",
      "execution_count": null,
      "metadata": {
        "id": "t44vWXK0JwIa"
      },
      "outputs": [],
      "source": [
        "# Method 1 in the for loop\n",
        "for x in range(len(a)):\n",
        "    print(x)  # print out the iterator\n",
        "    plt.plot([0,a[x].real],[0,a[x].imag],'o-',label='python') # zero in the first part is for the origin\n",
        "    # set limits for axis.\n",
        "    #This will round up to the next integer the largest magnitude of any complex number in the array\n",
        "    limit=np.max(np.ceil(np.absolute(a)))\n",
        "    plt.xlim((-limit,limit)) #Limits come from function above to make fit on graph\n",
        "    plt.ylim((-limit,limit)) #similar to x function\n",
        "plt.ylabel('Imaginary') #y-axis label\n",
        "plt.xlabel('Real') #x-axis label\n",
        "plt.grid(True)\n",
        "#plt.style.use('classic')  #feel free to choose a different plot style that you like better\n",
        "plt.show()"
      ]
    },
    {
      "cell_type": "code",
      "execution_count": null,
      "metadata": {
        "id": "7jFAX8ZNJwIb"
      },
      "outputs": [],
      "source": [
        "# Method 2 in the for loop\n",
        "for x in a:\n",
        "    print(x) # print out the iterator\n",
        "    plt.plot([0,np.real(x)],[0,np.imag(x)],'o-',label='python') # zero in the first part is for the origin\n",
        "    # set limits for axis.\n",
        "    #This will round up to the next integer the largest magnitude of any complex number in the array\n",
        "    limit=np.max(np.ceil(np.absolute(a)))\n",
        "    plt.xlim((-limit,limit)) #Limits come from function above to make fit on graph\n",
        "    plt.ylim((-limit,limit)) #similar to x function\n",
        "plt.ylabel('Imaginary') #y-axis label\n",
        "plt.xlabel('Real') #x-axis label\n",
        "plt.grid(True)\n",
        "#plt.style.use('classic')  #feel free to choose a different plot style that you like better\n",
        "plt.show()"
      ]
    },
    {
      "cell_type": "markdown",
      "metadata": {
        "id": "rorIDiSWJwIb"
      },
      "source": [
        "#### Caption\n",
        "This plots the arrays of real (x) and complex (y) numbers in array a on cartesian coordinates by drawing a line from the origin to each point (x,y)."
      ]
    },
    {
      "cell_type": "markdown",
      "source": [
        "#### Question\n",
        "Describe the two differences between the two methods for iterating through the array shown above. In particular, explain what the iterator represents in each method and how you access the data stored in the array in each method."
      ],
      "metadata": {
        "id": "B7qO4o28ubqS"
      }
    },
    {
      "cell_type": "markdown",
      "metadata": {
        "id": "23IhOBnNJwIb"
      },
      "source": [
        "#### Answer\n",
        "The difference between methods comes from the objects that we are iterating through. In method 1, we are using an integer and iterating through the length of array a. In method 2, we are using the elements of array a to iterate through array a in the For loop."
      ]
    },
    {
      "cell_type": "markdown",
      "metadata": {
        "id": "TuHPKOpUJwIb"
      },
      "source": [
        "----\n",
        "This next cell will also plot our complex numbers, but is instead a polar plot.  This code uses Method 2 in the for loop."
      ]
    },
    {
      "cell_type": "code",
      "execution_count": null,
      "metadata": {
        "id": "iHzQ8YTuJwIb"
      },
      "outputs": [],
      "source": [
        "for x in a:\n",
        "    #print (x)  #uncomment this line if you want to print the iterator at each step again\n",
        "    plt.polar([0,np.angle(x)],[0,abs(x)],marker='o')\n",
        "plt.show()"
      ]
    },
    {
      "cell_type": "markdown",
      "metadata": {
        "id": "MskicoNxJwIb"
      },
      "source": [
        "**In the next cell, create a similar polar plot but use Method 1 to iterate through the for loop.**"
      ]
    },
    {
      "cell_type": "code",
      "execution_count": null,
      "metadata": {
        "id": "AXJdKHqvJwIc"
      },
      "outputs": [],
      "source": [
        "for x in range(len(a)):\n",
        "    plt.polar([0,np.angle(a[x])],[0,abs(a[x])],marker='o', label=f'{x}')\n",
        "plt.legend()\n",
        "plt.show()"
      ]
    },
    {
      "cell_type": "markdown",
      "metadata": {
        "id": "BeUjkzOSJwIc"
      },
      "source": [
        "#### Caption\n",
        "This plots the arrays of real (x) and complex (y) numbers on polar coordinates by drawing a line from the origin to each point (theta, r)."
      ]
    },
    {
      "cell_type": "markdown",
      "metadata": {
        "id": "kNNprbnEJwIc"
      },
      "source": [
        "----\n",
        "## 3d plots\n",
        "It is also possible to make 3d plots. Matplotlib does not have the best interface for it, but another graphing library does. Plot.ly makes interactive plots, and for 3d plots in particular, this makes it possible to fully visualize them.  This first plot will make a \"parameteric\", 3d plot where the $x,y,z$ coordinates plotted all depend upon.  In this case, we are plotting\n",
        "$$\n",
        "x=-t\\\\\n",
        "y=\\sqrt{t}\\\\\n",
        "z=6\\log(t+1)\n",
        "$$\n",
        "Notice that you can dynamically move the plot around, and the plot will also display the function value plotted if you hold your mouse near the curve.\n",
        "\n",
        "Note: you do not need to write captions for the plots that are are given to you in full, but please rememer to write captions for all the plots you create yourself."
      ]
    },
    {
      "cell_type": "code",
      "execution_count": null,
      "metadata": {
        "id": "ECocLGyyJwIc"
      },
      "outputs": [],
      "source": [
        "t = np.linspace(0, 6*np.pi, 1000) #defining a random variable on which xyz depend on\n",
        "x, y, z = -t, np.sqrt(t), 6*np.log10(t+1) #setting xyz variables\n",
        "\n",
        "fig = go.Figure(data=[go.Scatter3d(x=x, y=y, z=z,\n",
        "                                   mode='lines')])\n",
        "\n",
        "fig.update_layout(\n",
        "    scene = dict(\n",
        "        xaxis = dict(nticks=4, range=[-20,0],),\n",
        "        yaxis = dict(nticks=4, range=[-1,5],),\n",
        "        zaxis = dict(nticks=4, range=[-1,9],),\n",
        "        xaxis_title='X AXIS TITLE',\n",
        "        yaxis_title='Y AXIS TITLE',\n",
        "        zaxis_title='Z AXIS TITLE'),\n",
        "    scene_aspectratio=dict(x=1, y=1, z=0.5), # setting aspect ratio in x and y equal,\n",
        "                                             # z is compressed relative to them by a factor of 2\n",
        "    width=700,\n",
        "    margin=dict(r=20, l=10, b=10, t=10))\n",
        "\n",
        "fig.show()"
      ]
    },
    {
      "cell_type": "markdown",
      "metadata": {
        "id": "52mPU6fMJwId"
      },
      "source": [
        "Let's try to visualize Euler's equation in a complex plane as a function of angle $\\theta$ relative to which it varies.\n",
        "\n",
        "**Use the above plotting code as a guide, construct a similar plot to visualize Euler's equation.**  To accomplish this, we will again use a parametric plot.  \n",
        "\n",
        "- The variable t defined above will represent the angle of the complex number.  - Put the real part of the complex number on the $x$ axis and the imaginary part of the complex number on the $y$ axis. This is the typical way to represent the complex plane, just as the other graphs in this notebook have been doing.\n",
        "- To help give the plot the third dimension, just let z=t in this scenario. This way, you can consider t as time (and thus the $z$ axis will represent the flow of time) and then the $x$ and $y$ axes would be the real and imaginary parts of a complex number as the argument (angle) of that complex number is uniformly increasing in time.    "
      ]
    },
    {
      "cell_type": "code",
      "execution_count": null,
      "metadata": {
        "id": "boVAKVl7JwId"
      },
      "outputs": [],
      "source": [
        "t = np.linspace(0, 6*np.pi, 1000)\n",
        "x, y, z = np.cos(t), np.sin(t), t\n",
        "\n",
        "fig = go.Figure(data=[go.Scatter3d(x=x, y=y, z=z,\n",
        "                                   mode='lines')])\n",
        "\n",
        "fig.update_layout(\n",
        "    scene = dict(\n",
        "        xaxis = dict(nticks=4, range=[-1,1],),\n",
        "        yaxis = dict(nticks=4, range=[-1,1],),\n",
        "        zaxis = dict(nticks=4, range=[0,20],),\n",
        "        xaxis_title='Real Numbers',\n",
        "        yaxis_title='Imaginary Numbers',\n",
        "        zaxis_title='Time'),\n",
        "    scene_aspectratio=dict(x=1, y=1, z=1),\n",
        "    width=700,\n",
        "    margin=dict(r=20, l=10, b=10, t=10))\n",
        "\n",
        "fig.show()"
      ]
    },
    {
      "cell_type": "markdown",
      "source": [
        "### Caption\n",
        "This is a 3D plot of Euler's number e^it = cos(t) + isin(t) where the X axis is real (cos term), the Y axis is complex (sin term), and the Z axis is time.\n"
      ],
      "metadata": {
        "id": "hbIODFDIjfnS"
      }
    },
    {
      "cell_type": "markdown",
      "metadata": {
        "id": "sYH0vobwJwIe"
      },
      "source": [
        "----\n",
        "You might remember during the lecture we encountered an expression $$(1-i)^{20}=-2^{10}$$\n",
        "\n",
        "Prove this numerically in Python. Then create a plot that would make a plot of the complex plane of a ray extending from zero to $(1-i)^{n}$, where $n$ is a number from 10 to 20. Make sure to label everything."
      ]
    },
    {
      "cell_type": "code",
      "execution_count": null,
      "metadata": {
        "id": "Ud7xoV9WJwIe"
      },
      "outputs": [],
      "source": [
        "#calculate (1-i)^{20} here\n",
        "a = (1 - 1j)**20\n",
        "print(a)\n",
        "\n",
        "b = (-2)**10\n",
        "print(b)\n"
      ]
    },
    {
      "cell_type": "code",
      "execution_count": null,
      "metadata": {
        "id": "LpUYjbv9JwIe"
      },
      "outputs": [],
      "source": [
        "n = np.arange(10,21)\n",
        "a = (1 - 1j)**n\n",
        "\n",
        "print(a)\n",
        "for x in a:\n",
        "    plt.polar([0,np.angle(x)],[0,abs(x)], marker='o', label=f'{x:.02}')\n",
        "\n",
        "plt.legend(loc='upper left')\n",
        "plt.show()"
      ]
    },
    {
      "cell_type": "markdown",
      "source": [
        "###Caption\n",
        "This is a polar plot of (1-i)^n from n=10 to n=20. Each root is represented by a radial line. The legend shows the complex values of each root."
      ],
      "metadata": {
        "id": "LZ9JNZHUnz1M"
      }
    },
    {
      "cell_type": "markdown",
      "metadata": {
        "id": "Ax3_ufa5JwIf"
      },
      "source": [
        "----\n",
        "\n",
        "# The $n$ roots of a complex number\n",
        "\n",
        "Your task will be to find the $n$ roots of any complex number.  Your code should be able to handle any integer value for $n$ (you do not need to do any error checks at this point to make sure that $n$ is an integer) and any complex number for $z$. To check that your code it working, your instructor will fill in a few different values of $n$ and $z$, and then your code should plot the $n$ roots of the number.  You can choose either a Cartesian or polar plot, whichever you prefer.\n",
        "\n",
        "Hint: Think back to the recorded video - how should all of the roots be positioned on the complex plane?"
      ]
    },
    {
      "cell_type": "code",
      "execution_count": null,
      "metadata": {
        "id": "Xa8qsGRVJwIf"
      },
      "outputs": [],
      "source": [
        "n = 20\n",
        "z = 3-9j\n",
        "r = abs(z)\n",
        "theta = np.angle(z)\n",
        "print(r)\n",
        "print(theta)"
      ]
    },
    {
      "cell_type": "code",
      "execution_count": null,
      "metadata": {
        "id": "2ap8J86eJwIf"
      },
      "outputs": [],
      "source": [
        "# Put your code here to both calculate and plot the n roots of z defined in cell above\n",
        "\n",
        "roots = np.zeros(n,dtype=np.complex128) #creating an empty array to store all of the roots\n",
        "for i in range(n):\n",
        "    anglee = ((theta + 2*np.pi*i) / n)\n",
        "    roots[i]= (r**(1/n) * np.exp(1j*anglee))\n",
        "\n",
        "print(roots)\n",
        "\n",
        "for x in roots:\n",
        "    plt.polar([0,np.angle(x)],[0,abs(x)], marker='o', label=f'{x:.02}')\n",
        "\n",
        "plt.legend()\n",
        "plt.show()"
      ]
    },
    {
      "cell_type": "markdown",
      "source": [
        "###Caption\n",
        "This is a polar plot of the nth roots of Z. Each root is represented by a radial line. The legend shows the complex values of each root."
      ],
      "metadata": {
        "id": "FSqBiwohiHfV"
      }
    },
    {
      "cell_type": "markdown",
      "source": [
        "Check that by raising roots to the power of n, you would get back the original complex number."
      ],
      "metadata": {
        "id": "afz1UZGNz7DA"
      }
    },
    {
      "cell_type": "code",
      "source": [
        "print(roots**n)"
      ],
      "metadata": {
        "id": "0PM3GnlO0Bcg"
      },
      "execution_count": null,
      "outputs": []
    },
    {
      "cell_type": "markdown",
      "metadata": {
        "id": "bSL-fYTMJwIg"
      },
      "source": [
        "In contructing your plot of the $n$ roots, you should have created an array with these $n$ complex numbers.  Use the \"sum\" function to verify that if you sum the $n$ roots of the complex number, you get zero (to within numerical precision).  Try for several different values of $n$ and $z$ for your code.  \n",
        "\n",
        "Once you are convinced by trying several combinations of $n$ and $z$, **prove this general result on paper: the sum of all $n$ of the $n$-th roots of *any* complex number is 0 for *any* value of $n$ (an integer).**"
      ]
    },
    {
      "cell_type": "code",
      "execution_count": null,
      "metadata": {
        "id": "IY6c5qArJwIg"
      },
      "outputs": [],
      "source": [
        "print(np.sum(roots))"
      ]
    },
    {
      "cell_type": "markdown",
      "metadata": {
        "id": "iXhwpebvJwIh"
      },
      "source": [
        "----\n",
        "## Extra credit\n",
        "Now write a code that will take two integer inputs, where the graph will now show the nth roots from n1 up to n2 each in a different color.  So as an example, if I give 2 and 5, you graph will have the 2, square roots, in one color, the 3, cubed roots, in a different color, the 4 fourth roots, in a different color and the 5, fifth roots, in a different color.   \n",
        "\n",
        "Make sure that the colors are visually distinct. Include a legend that defines what color refers to the degree of the root."
      ]
    },
    {
      "cell_type": "code",
      "execution_count": null,
      "metadata": {
        "id": "wkKzk05cJwIh"
      },
      "outputs": [],
      "source": [
        "n1 = 2\n",
        "n2 = 5\n",
        "\n",
        "colors = plt.cm.viridis(np.linspace(0,1,n2-n1+1))\n",
        "\n",
        "for n in range(n1,n2+1):\n",
        "    c = colors[n-n1]\n",
        "    for i in range(n):\n",
        "        anglee = ((theta + 2*np.pi*i) / n)\n",
        "        roots[i]= (r**(1/n) * np.exp(1j*anglee))\n",
        "        plt.polar([0, np.angle(roots[i])], [0, abs(roots[i])], marker='o', color=c, label=f'{n}-th roots' if i == 0 else \"\")\n",
        "\n",
        "plt.legend()\n",
        "plt.show()"
      ]
    },
    {
      "cell_type": "markdown",
      "source": [
        "###Caption\n",
        "This is a polar plot of the nth roots of a complex number ranging from n1 to n2. Each root is represented by a radial line. Each color represents a different degree nth root and the legend shows this."
      ],
      "metadata": {
        "id": "GQn9NkmeyZmT"
      }
    }
  ],
  "metadata": {
    "kernelspec": {
      "display_name": "Python 3",
      "name": "python3"
    },
    "language_info": {
      "codemirror_mode": {
        "name": "ipython",
        "version": 3
      },
      "file_extension": ".py",
      "mimetype": "text/x-python",
      "name": "python",
      "nbconvert_exporter": "python",
      "pygments_lexer": "ipython3",
      "version": "3.6.8"
    },
    "colab": {
      "provenance": [],
      "generative_ai_disabled": true,
      "include_colab_link": true
    }
  },
  "nbformat": 4,
  "nbformat_minor": 0
}