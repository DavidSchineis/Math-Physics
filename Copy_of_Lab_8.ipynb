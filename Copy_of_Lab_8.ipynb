{
  "cells": [
    {
      "cell_type": "markdown",
      "metadata": {
        "id": "view-in-github",
        "colab_type": "text"
      },
      "source": [
        "<a href=\"https://colab.research.google.com/github/DavidSchineis/Math-Physics/blob/main/Copy_of_Lab_8.ipynb\" target=\"_parent\"><img src=\"https://colab.research.google.com/assets/colab-badge.svg\" alt=\"Open In Colab\"/></a>"
      ]
    },
    {
      "cell_type": "markdown",
      "source": [
        "#Abstract\n",
        "This lab focused on exploring the properties of Pauli spin matrices using Python. We began by defining three Pauli spin matrices and verifying that they are both Hermitian and unitary through computation of their conjugate transposes, determinants, and inverses. Next, we examined their traces and the properties surrounding the Levi-Civita symbol. We then applied both cos, sin, and exp with their matrix counterparts cosm, sinm, and expm and built Taylor series expansions to approximate these functions and compared the results. Overall, this lab demonstrated how Pythons linear algebra tools can be used to analyze and verify complex matrices."
      ],
      "metadata": {
        "id": "rHCb0i256UGG"
      }
    },
    {
      "cell_type": "markdown",
      "metadata": {
        "id": "LyeMyWF7TP6U"
      },
      "source": [
        "The first thing we will do is load some packages that we will use throughout the notebook."
      ]
    },
    {
      "cell_type": "code",
      "execution_count": null,
      "metadata": {
        "id": "n2KV2PArTP6V"
      },
      "outputs": [],
      "source": [
        "import numpy as np\n",
        "from numpy import trace as tr\n",
        "from numpy.linalg import det as det, inv as inverse\n",
        "from numpy import sinh, cosh, sin, cos, exp\n",
        "from scipy.linalg import expm, sinm, cosm, logm\n",
        "from sympy import Matrix, init_printing, latex\n",
        "init_printing()"
      ]
    },
    {
      "cell_type": "markdown",
      "metadata": {
        "id": "lbYxe2ShTP6X"
      },
      "source": [
        " **The Pauli spin-matrices are defined below. You will perform several calculations using them. Although the bulk of it would be done in code, it is good for you to verify all these expressions by hand as well.**.\n",
        "\n",
        "$\\sigma_1=\\begin{pmatrix}\n",
        "0  & 1\\\\\n",
        "1 & 0\n",
        "\\end{pmatrix}$\n",
        "\n",
        "$\\sigma_2=\\begin{pmatrix}\n",
        "0  & -i\\\\\n",
        "i & 0\n",
        "\\end{pmatrix}$\n",
        "\n",
        "$\\sigma_3=\\begin{pmatrix}\n",
        "1  & 0\\\\\n",
        "0 & -1\n",
        "\\end{pmatrix}$\n",
        "\n",
        "\n",
        "\n",
        "\n"
      ]
    },
    {
      "cell_type": "code",
      "execution_count": null,
      "metadata": {
        "id": "cTj1BfehTP6X"
      },
      "outputs": [],
      "source": [
        "# This shows you one way to enter the first matrix.  You will need to put in the others\n",
        "# Remember that the way to represent i in Python is with 1j, or 2j, etc.\n",
        "sigma1=np.matrix([[0,1],[1,0]])\n",
        "sigma2=np.matrix([[0, -1j],[1j,  0]])\n",
        "sigma3=np.matrix([[1,  0],[0, -1]])\n",
        "#print(sigma1)\n",
        "#You can use the below code if you want to use the nicer display/printing of matrices\n",
        "display(Matrix(sigma1),Matrix(sigma2),Matrix(sigma3))"
      ]
    },
    {
      "cell_type": "markdown",
      "metadata": {
        "id": "Ap8CxpB1TP6X"
      },
      "source": [
        "Verify that each of the three Pauli spin matrices are Hermitian\n",
        "\n",
        "As a note, to get the Hermitian conjugate (dagger) of a matrix you can just type the name of the matrix followed by \".H\" without the quotes.  As an example you can use \"sigma1.H\" without the quotes to give the Hermitian conjugate of sigma1 (i.e, $\\sigma_1^\\dagger$).  You can obtain the transpose of a matrix in a similar fashion by using \".T\" without the quotes.  \n",
        "\n",
        "One to verify that two matrices are the same is by subtracting them and verifying that it produces the zero matrix."
      ]
    },
    {
      "cell_type": "code",
      "execution_count": null,
      "metadata": {
        "id": "nakQVp0-TP6Y"
      },
      "outputs": [],
      "source": [
        "#Example of how to use getH()\n",
        "sigma1Dag=sigma1.H\n",
        "sigma2Dag=sigma2.H\n",
        "sigma3Dag=sigma3.H\n",
        "#print(sigma1Dag-sigma1)\n",
        "#You can use the below code if you want to use the nicer display/printing of matrices\n",
        "display(Matrix(sigma1Dag-sigma1), Matrix(sigma2Dag-sigma2), Matrix(sigma3Dag-sigma3))"
      ]
    },
    {
      "cell_type": "markdown",
      "metadata": {
        "id": "7X-9OiyHTP6Y"
      },
      "source": [
        "Find the determinant of the three Pauli spin matrices by hand and using Python\n",
        "You can use the \"det\" function to find the determinant"
      ]
    },
    {
      "cell_type": "code",
      "execution_count": null,
      "metadata": {
        "id": "PpLre9IqTP6Y"
      },
      "outputs": [],
      "source": [
        "print(det(sigma1))\n",
        "print(det(sigma2))\n",
        "print(det(sigma3))\n"
      ]
    },
    {
      "cell_type": "markdown",
      "metadata": {
        "id": "YN1zKgUNTP6Z"
      },
      "source": [
        "Verify that each of the three Pauli spin matrices are unitary by hand and using Python\n",
        "One simple way to verify this is to calculate\n",
        "$\\sigma_i^\\dagger\\sigma_i$\n",
        "and verify that it produces the identity matrix for each of the Pauli spin matrices.\n",
        "\n",
        "Alternatively, you could verify this by finding the inverse and checking that it is equal to the Hermitian conjugate of the original Pauli spin matrix.  Remember that in the previous part, you showed that the Pauli spin matrices are Hermitian, so this is equivalent to showing that the inverse of each of the Pauli spin matrices is equal to the original matrix.\n",
        "\n",
        "**Use each of these techniques both within Python and by hand to verify that the Pauli spin matrices are unitary. The inverse function was imported from numpy.linalg.inv and can be used within Python to find the inverse of a matrix. By hand, you should find the at least one of the inverses of the Pauli spin matrices using the technique of cofactor expansion and at least one of the inverses using row reduction so that you can practice both techniques.**"
      ]
    },
    {
      "cell_type": "code",
      "execution_count": null,
      "metadata": {
        "id": "yh_4AKJ8TP6Z"
      },
      "outputs": [],
      "source": [
        "I = np.matrix([[1,0],[0,1]])\n",
        "\n",
        "sigma1Prod = sigma1Dag*sigma1\n",
        "sigma2Prod = sigma2Dag*sigma2\n",
        "sigma3Prod = sigma3Dag*sigma3\n",
        "\n",
        "display(Matrix(sigma1Prod-I),Matrix(sigma2Prod-I),Matrix(sigma3Prod-I))\n",
        "\n",
        "\n",
        "sigma1Inv = np.linalg.inv(sigma1)\n",
        "sigma2Inv = np.linalg.inv(sigma2)\n",
        "sigma3Inv = np.linalg.inv(sigma3)\n",
        "\n",
        "display(Matrix(sigma1Dag-sigma1Inv), Matrix(sigma2Dag-sigma2Inv), Matrix(sigma3Dag-sigma3Inv))"
      ]
    },
    {
      "cell_type": "markdown",
      "metadata": {
        "id": "74mM_HF8TP6a"
      },
      "source": [
        "Find the trace of the three Pauli spin matrices by hand and using Python\n",
        "You can use the \"tr\" function to find the trace of a matrix since we imported trace from numpy as tr"
      ]
    },
    {
      "cell_type": "code",
      "execution_count": null,
      "metadata": {
        "id": "u0OXParmTP6a"
      },
      "outputs": [],
      "source": [
        "print(tr(sigma1))\n",
        "print(tr(sigma2))\n",
        "print(tr(sigma3))"
      ]
    },
    {
      "cell_type": "markdown",
      "metadata": {
        "id": "wWUQ7zOSTP6a"
      },
      "source": [
        "---\n",
        "Verify that the Pauli spin matrices satisfy the following commutation relations.\n",
        "### $$[\\sigma_j,\\sigma_k]=\\sigma_j\\sigma_k-\\sigma_k\\sigma_j=\\sum_{n=1}^3 2i\\varepsilon_{jkn}\\sigma_n$$\n",
        "\n",
        "where $j,k,n$ are any unique combination of numbers 1,2,3, and $\\varepsilon_{jkn}$ is the Levi-Civta symbol, defined as\n",
        "$$\\varepsilon_{123}=\\varepsilon_{231}=\\varepsilon_{312}=1$$\n",
        "$$\\varepsilon_{132}=\\varepsilon_{213}=\\varepsilon_{321}=-1$$\n",
        "\n",
        "and all other $\\varepsilon_{ijk}=0$.\n",
        "\n",
        "Note that in the identity, there is an implied sum over $n$ on the right hand-side.  This means that for any chosen value of $j$ and $k$, you would need to compute a sum of the right-hand side over the three values of $n$.  An explicit example might help to explain. The identity for $j=1,k=2$ would take the form of\n",
        "\n",
        "$$[\\sigma_1,\\sigma_2] = \\sum 2i\\varepsilon_{12n}\\sigma_n = 2i\\left(\\varepsilon_{121}\\sigma_1+\\varepsilon_{122}\\sigma_2+\\varepsilon_{123}\\sigma_3\\right)$$\n",
        "    \n",
        "Although there are nine variation of variations of $j,k$ contained in the identity above **(make sure you understand why this is the case)** , it is sufficient to check only 3 of them, as you can easily prove that e.g.,\n",
        "$$[\\sigma_2,\\sigma_1]=-[\\sigma_1,\\sigma_2]$$\n",
        "and, by definition\n",
        "$$\\varepsilon_{21n}=-\\varepsilon_{12n}$$\n",
        "\n",
        "Thus the equality would be maintained. The same holds for the other two combinations of $j$ and $k$, i.e. $j=1, k=3$ and $j=2, k=3$.\n",
        "\n",
        "Also, every matrix commutes with itself, i.e. $[\\sigma_j,\\sigma_j]=0$ for any of the three choices of $j$, and by definition the Levi Civita symbol is 0 for any repeated index, and thus the identity is true for all three of the commutation relations between a Pauli spin matrix and itself.\n",
        "\n",
        "Thus out of the nine possible combinations represented in the identity, you only need to check three of them, i.e.\n",
        "\n",
        "* $j=1,k=2$\n",
        "* $j=1, k=3$\n",
        "* $j=2, k=3$"
      ]
    },
    {
      "cell_type": "code",
      "execution_count": null,
      "metadata": {
        "id": "DgcZnI9wTP6a"
      },
      "outputs": [],
      "source": [
        "j = 1\n",
        "k = 2\n",
        "s = np.matrix([[0,0],[0,0]])\n",
        "sigma1=np.matrix([[0,1],[1,0]])\n",
        "sigma2=np.matrix([[0, -1j],[1j,  0]])\n",
        "sigma3=np.matrix([[1,  0],[0, -1]])\n",
        "\n",
        "def sigma(i):\n",
        "  if i == 1: return np.matrix([[0,1],[1,0]])\n",
        "  if i == 2: return np.matrix([[0, -1j],[1j,  0]])\n",
        "  else: return np.matrix([[1,  0],[0, -1]])\n",
        "\n",
        "\n",
        "def levi(j,k,i):\n",
        "  if (j,k,i) in [(1,2,3),(2,3,1),(3,1,2)]: return 1\n",
        "  if (j,k,i) in [(1,3,2),(2,1,3),(3,2,1)]: return -1\n",
        "  else: return 0\n",
        "\n",
        "\n",
        "for i in range(1,4):\n",
        "  s = s + levi(j,k,i)*sigma(i)\n",
        "  #display(Matrix(levi(j,k,i)*sigma(i)))\n",
        "\n",
        "\n",
        "s = s * 2j\n",
        "display(Matrix(s))"
      ]
    },
    {
      "cell_type": "markdown",
      "metadata": {
        "id": "IkJhM9JXTP6a"
      },
      "source": [
        "----\n",
        "Try to determine what Python does when you calculate cos(sigma1)\n",
        "Check that you have figured it out by calculating cos(sigma2) and cos(sigma3) by hand first, and then verify that Python produces the result you expect.  Make sure you explain how each of the numbers in the matrix is generated."
      ]
    },
    {
      "cell_type": "code",
      "execution_count": null,
      "metadata": {
        "id": "Qh1wmppZTP6a"
      },
      "outputs": [],
      "source": [
        "print(cos(sigma1))\n",
        "print(cos(sigma2))\n",
        "print(cos(sigma3))\n",
        "#You can use the below code if you want to use the nicer display/printing of matrices\n",
        "display(Matrix(cos(sigma1)), Matrix(cos(sigma2)), Matrix(cos(sigma3)))"
      ]
    },
    {
      "cell_type": "markdown",
      "source": [
        "### Explanation\n",
        "The cos function takes the cos of each element of the matrix, ignoring its structure. The cosm function takes the matrix cos and both functions are in radians."
      ],
      "metadata": {
        "id": "23bTTzDV8cvt"
      }
    },
    {
      "cell_type": "markdown",
      "metadata": {
        "id": "K2kfxoi1TP6a"
      },
      "source": [
        "Cosm function (i.e., cosine of the matrices) is somewhat different than cos.\n"
      ]
    },
    {
      "cell_type": "code",
      "execution_count": null,
      "metadata": {
        "scrolled": true,
        "id": "EjUnmpK2TP6b"
      },
      "outputs": [],
      "source": [
        "cosm(sigma1)\n",
        "cosm(sigma2)\n",
        "cosm(sigma3)\n",
        "#You can use the below code if you want to use the nicer display/printing of matrices\n",
        "display(Matrix(cosm(sigma1)), Matrix(cosm(sigma2)), Matrix(cosm(sigma3)))"
      ]
    },
    {
      "cell_type": "markdown",
      "source": [
        "Cosm is can be derived through using power series through applying the definition of Taylor expansion of cos function. Calculate the cosine of each of the three Pauli spin matrices by performing Taylor expansion.\n",
        "\n",
        "Note that instead of 1 you would use an identity matrix.\n",
        "\n",
        "Use at least 5 terms in the Taylor expansion."
      ],
      "metadata": {
        "id": "xbJh_6l4HlvQ"
      }
    },
    {
      "cell_type": "code",
      "source": [
        "def fact(n):\n",
        "    if n <= 1:\n",
        "        return 1\n",
        "    else:\n",
        "        return n * fact(n-1)\n",
        "\n",
        "def taylor_cosm(M, terms=5):\n",
        "    I = np.matrix([[1,0],[0,1]])\n",
        "    S = np.matrix([[0,0],[0,0]])\n",
        "    P = I\n",
        "    for k in range(terms):\n",
        "        S = S + ((-1)**k) * (P / fact(2*k))\n",
        "        P = M * M * P\n",
        "    return S\n",
        "\n",
        "cos_sigma1 = taylor_cosm(sigma1, terms=5)\n",
        "cos_sigma2 = taylor_cosm(sigma2, terms=5)\n",
        "cos_sigma3 = taylor_cosm(sigma3, terms=5)\n",
        "\n",
        "display(Matrix(cos_sigma1), Matrix(cos_sigma2), Matrix(cos_sigma3))\n"
      ],
      "metadata": {
        "id": "-ie8Ek21HlQZ"
      },
      "execution_count": null,
      "outputs": []
    },
    {
      "cell_type": "markdown",
      "metadata": {
        "id": "F0YmEmvDTP6b"
      },
      "source": [
        "----\n",
        "Repeat the above but for the sine function.\n",
        "\n",
        "(i.e, printing out sin/sinm, and performing Taylor expansion to get sinm)"
      ]
    },
    {
      "cell_type": "code",
      "execution_count": null,
      "metadata": {
        "scrolled": true,
        "id": "MB40xys0TP6b"
      },
      "outputs": [],
      "source": [
        "\n",
        "display(Matrix(sin(sigma1)), Matrix(sin(sigma2)), Matrix(sin(sigma3)))\n",
        "\n",
        "display(Matrix(sinm(sigma1)), Matrix(sinm(sigma2)), Matrix(sinm(sigma3)))\n",
        "\n",
        "def fact(n):\n",
        "    if n <= 1:\n",
        "        return 1\n",
        "    else:\n",
        "        return n * fact(n-1)\n",
        "\n",
        "def taylor_sinm(M, terms=5):\n",
        "    #I = np.matrix([[1,0],[0,1]])\n",
        "    S = np.matrix([[0,0],[0,0]])\n",
        "    P = M\n",
        "    for k in range(terms):\n",
        "        S = S + ((-1)**k) * (P / fact(2*k + 1))\n",
        "        P = M * M * P\n",
        "    return S\n",
        "\n",
        "sin_sigma1 = taylor_sinm(sigma1, terms=5)\n",
        "sin_sigma2 = taylor_sinm(sigma2, terms=5)\n",
        "sin_sigma3 = taylor_sinm(sigma3, terms=5)\n",
        "\n",
        "display(Matrix(sin_sigma1), Matrix(sin_sigma2), Matrix(sin_sigma3))\n"
      ]
    },
    {
      "cell_type": "markdown",
      "metadata": {
        "id": "cgz-9r3aTP6b"
      },
      "source": [
        "---\n",
        "Repeat the above for the exponential function, written as expm in Python\n",
        "(i.e, printing out exp/expm, and performing Taylor expansion to get expm)"
      ]
    },
    {
      "cell_type": "code",
      "source": [
        "\n",
        "display(Matrix(exp(sigma1)), Matrix(exp(sigma2)), Matrix(exp(sigma3)))\n",
        "\n",
        "display(Matrix(expm(sigma1)), Matrix(expm(sigma2)), Matrix(expm(sigma3)))\n",
        "\n",
        "def fact(n):\n",
        "    if n <= 1:\n",
        "        return 1\n",
        "    else:\n",
        "        return n * fact(n-1)\n",
        "\n",
        "def taylor_expm(M, terms=5):\n",
        "    I = np.matrix([[1,0],[0,1]])\n",
        "    S = np.matrix([[0,0],[0,0]])\n",
        "    P = I\n",
        "    for k in range(terms):\n",
        "        S = S + (P / fact(k))\n",
        "        P = M * P\n",
        "    return S\n",
        "\n",
        "exp_sigma1 = taylor_expm(sigma1, terms=5)\n",
        "exp_sigma2 = taylor_expm(sigma2, terms=5)\n",
        "exp_sigma3 = taylor_expm(sigma3, terms=5)\n",
        "\n",
        "display(Matrix(exp_sigma1), Matrix(exp_sigma2), Matrix(exp_sigma3))"
      ],
      "metadata": {
        "id": "wLmixOUyAgS7"
      },
      "execution_count": null,
      "outputs": []
    },
    {
      "cell_type": "markdown",
      "metadata": {
        "scrolled": true,
        "id": "qLCc3ranTP6b"
      },
      "source": [
        "----\n",
        "## Extra credit\n",
        "\n",
        "Levi-civita notation can be used to find a cross product, as\n",
        "### $$\\vec{a}\\times \\vec{b}=\\sum_{i=1}^3\\sum_{j=1}^3\\sum_{k=1}^3\\varepsilon_{ijk}v_ia_jb_k$$\n",
        "where $v=[\\hat{x},\\hat{y},\\hat{z}]$ and $a_j,b_k$ are the Cartesian scalar components of $\\vec{a}$ and $\\vec{b}$.  \n",
        "\n",
        "First create a 3x3x3 array, and fill it with the values of Levi-Civita. Then, write a function that would evaluate a cross product using this approach.\n"
      ]
    },
    {
      "cell_type": "code",
      "execution_count": null,
      "metadata": {
        "id": "laWPRcKjTP6b"
      },
      "outputs": [],
      "source": [
        "def levi_civita():\n",
        "    L = np.zeros((3,3,3))\n",
        "    L[0,1,2]=1\n",
        "    #.....\n",
        "    return L\n",
        "\n",
        "def crossproduct(a,b):\n",
        "    #your function here\n",
        "    return\n",
        "\n",
        "\n",
        "a=np.array([4,2,3])\n",
        "b=np.array([3,5,7])\n",
        "L=levi_civita()\n",
        "\n",
        "print(L)\n",
        "print(np.cross(a,b))\n",
        "print(crossproduct(a,b))\n"
      ]
    }
  ],
  "metadata": {
    "colabVersion": "0.1",
    "kernelspec": {
      "display_name": "Python 3",
      "name": "python3"
    },
    "language_info": {
      "codemirror_mode": {
        "name": "ipython",
        "version": 3
      },
      "file_extension": ".py",
      "mimetype": "text/x-python",
      "name": "python",
      "nbconvert_exporter": "python",
      "pygments_lexer": "ipython3",
      "version": "3.6.8"
    },
    "colab": {
      "provenance": [],
      "generative_ai_disabled": true,
      "include_colab_link": true
    }
  },
  "nbformat": 4,
  "nbformat_minor": 0
}