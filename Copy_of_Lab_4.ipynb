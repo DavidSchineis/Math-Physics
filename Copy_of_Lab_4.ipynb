{
  "cells": [
    {
      "cell_type": "markdown",
      "metadata": {
        "id": "view-in-github",
        "colab_type": "text"
      },
      "source": [
        "<a href=\"https://colab.research.google.com/github/DavidSchineis/Math-Physics/blob/main/Copy_of_Lab_4.ipynb\" target=\"_parent\"><img src=\"https://colab.research.google.com/assets/colab-badge.svg\" alt=\"Open In Colab\"/></a>"
      ]
    },
    {
      "cell_type": "markdown",
      "source": [
        "#Abstract\n",
        "This lab explores using calculus tools in Python to analyze vector fields. We began by using np.gradient and np.trapezoid to approximate derivatives and integrals and compared them to pen-and-paper solutions. We then extended these methods to 3D fields, calculating gradients, divergence, and curl. We visualized gradients and divergence with quiver and colormesh plots, and then switched to Plotly to display vector fields, curls, and divergence in 3D. Throughout, we verified when values matched our by-hand calculations. This lab demonstrates how calculus and visualization tools can be combined to explore the structure and properties of vector fields in multiple dimensions."
      ],
      "metadata": {
        "id": "AvEqOLYMxROr"
      }
    },
    {
      "cell_type": "code",
      "execution_count": null,
      "metadata": {
        "id": "rhYQKU-1ktzf"
      },
      "outputs": [],
      "source": [
        "import numpy as np\n",
        "from numpy import pi, sin, cos\n",
        "import time\n",
        "import matplotlib.pyplot as plt\n",
        "import plotly.graph_objects as go"
      ]
    },
    {
      "cell_type": "markdown",
      "metadata": {
        "id": "nk4kl8TOktzh"
      },
      "source": [
        "## Derivative\n",
        "\n",
        "It is possible to do calculus operations numerically. For example, we can define an arbitrary function y, evaluate it over a range of x values, and to take a derivative of it using np.gradient function. Confirm that it is accurate by integrating the function yourself."
      ]
    },
    {
      "cell_type": "code",
      "execution_count": null,
      "metadata": {
        "id": "kB66Rtpoktzi"
      },
      "outputs": [],
      "source": [
        "dx=0.01\n",
        "x=np.arange(0,10,dx)\n",
        "y=2*x**2+1\n",
        "\n",
        "dy=np.gradient(y,x)\n",
        "\n",
        "plt.plot(x,y,label='function',lw=6)\n",
        "plt.plot(x,dy,label='np.gradient derivative',lw=10)\n",
        "plt.plot(x,4*x,lw=3,label='pen-and-paper derivative function')\n",
        "\n",
        "plt.legend()\n",
        "\n",
        "plt.show()\n",
        "\n"
      ]
    },
    {
      "cell_type": "markdown",
      "source": [
        "###Caption\n",
        "This plots y=2x^2 + 1 alongside its derivative calculated by np.gradient (orange) and by hand (green). There is clear overlap, so we have confirmed np.gradient's accuracy."
      ],
      "metadata": {
        "id": "OVWynMLMstVA"
      }
    },
    {
      "cell_type": "markdown",
      "metadata": {
        "id": "fHoPFRdbktzj"
      },
      "source": [
        "## Integral\n",
        "\n",
        "Similarly, we can use np.trapezoid function to numerically add up the area under the curve to get an integral. The precision of it depends strongly on the step size we use, the smaller the better (but also slower to compute). Faster and more precise routines such as scipy quad function also exist, but require a somewhat more complex set up."
      ]
    },
    {
      "cell_type": "code",
      "execution_count": null,
      "metadata": {
        "id": "SWLRLQAJktzj"
      },
      "outputs": [],
      "source": [
        "I = (2/3)*(10**3) + 10\n",
        "\n",
        "print('The value of the integral computed using pen-and-paper integration is', I)\n",
        "\n",
        "for dx in [0.1,0.01,0.001,0.0001,0.00001,0.000001,0.0000001]:\n",
        "    t=time.time()\n",
        "    x=np.arange(0,10,dx)\n",
        "    a,b=2,1\n",
        "    y=a*x**2+b\n",
        "    numI=np.trapezoid(y,x)\n",
        "\n",
        "    print('The value of the integral using numpy of y from 0 to 10 with dx='+str(dx)+' is',numI)\n",
        "    print('The precision is',np.abs(numI-I)/I,\"%\")\n",
        "    print('It took', time.time()-t,'seconds to compute')\n",
        "    print('')"
      ]
    },
    {
      "cell_type": "markdown",
      "metadata": {
        "id": "qfW1n5eHktzk"
      },
      "source": [
        "To return a function of integral as a function of x, a somewhat more complex array manipulation is needed.\n",
        "\n",
        "Use a for loop to integrate from 0th to ith element of y (written as y[0:i], with the corresponding x[0:i] to integrate with respect to). Store each calculation in the ith element of the empty Ix array."
      ]
    },
    {
      "cell_type": "code",
      "execution_count": null,
      "metadata": {
        "id": "4J0td2vyktzk"
      },
      "outputs": [],
      "source": [
        "dx=0.01\n",
        "x=np.arange(0,10,dx)\n",
        "y=2*x**2+1\n",
        "\n",
        "Ix=np.zeros(len(x))\n",
        "for i in range(1, len(x)):\n",
        "  Ix[i] = np.trapezoid(y[0:i], x[0:i])\n",
        "plt.plot(x,y,label='function',lw=6)\n",
        "plt.plot(x,Ix,label='scipy quad integral',lw=10)\n",
        "plt.plot(x, ((2/3)*(x**3) + x),lw=3,label='pen-and-paper integral function')\n",
        "plt.legend()\n",
        "plt.show()"
      ]
    },
    {
      "cell_type": "markdown",
      "source": [
        "###Caption\n",
        "This plots y=2x^2 + 1 alongside its integral function calculated by np.trapezoid (orange) and by hand (green)."
      ],
      "metadata": {
        "id": "aXQFOfWjsrqf"
      }
    },
    {
      "cell_type": "markdown",
      "metadata": {
        "id": "lbiStSmhktzl"
      },
      "source": [
        "## Plot the function cos x from 0 to $2\\pi$, as well as the corresponding integral and derivative"
      ]
    },
    {
      "cell_type": "code",
      "execution_count": null,
      "metadata": {
        "id": "PLqMfcfqktzl"
      },
      "outputs": [],
      "source": [
        "x = np.linspace(0,2*pi)\n",
        "y = cos(x)\n",
        "\n",
        "dy = -sin(x)\n",
        "Iy = sin(x)\n",
        "\n",
        "plt.plot(x,y,label='function',lw=6)\n",
        "plt.plot(x,dy,label='pen-and-paper derivative',lw=10)\n",
        "plt.plot(x,Iy,label='pen-and-paper integral',lw=10)\n",
        "\n",
        "plt.legend()\n",
        "\n",
        "plt.show()"
      ]
    },
    {
      "cell_type": "markdown",
      "source": [
        "###Caption\n",
        "This plots the 2D function of cos from 0 to 2pi as well as its derivative (-sin) and its integral (sin) functions."
      ],
      "metadata": {
        "id": "PjCKZtjXb8Su"
      }
    },
    {
      "cell_type": "markdown",
      "metadata": {
        "id": "2Ocsmecwktzm"
      },
      "source": [
        "## Gradient\n",
        "\n",
        "It is also possible to do numeric partial integration and differentiation in a similar manner.\n",
        "\n",
        "Let $f(x,y)=x-y$\n",
        "\n",
        "We'll first create linearly separated set of points for x & y. We'll then create a meshgrid to diplay the function on a 2d plane.\n",
        "\n",
        "By default meshgrid is using 'xy' indexing, which results in inverted ordering of the dimensions, which would make x to be along axis=1, and y along axis=0. 'ij' allows to correlate the first axis with x, second axis with y, etc,\n",
        "which would make it easier to keep track of.\n",
        "\n",
        "We will then define our function fxy, that would depend on the 2d x & y."
      ]
    },
    {
      "cell_type": "code",
      "execution_count": null,
      "metadata": {
        "id": "iFEvOQ01ktzn"
      },
      "outputs": [],
      "source": [
        "n=10\n",
        "x,y=np.linspace(-5,5,n),np.linspace(-5,5,n)\n",
        "xx,yy = np.meshgrid(x,y, indexing='ij')\n",
        "\n",
        "\n",
        "fxy=xx-yy\n",
        "\n",
        "u = np.gradient(fxy,x,axis=0) #partial derivative with respect to x\n",
        "v = np.gradient(fxy,y,axis=1)\n",
        "\n",
        "c=plt.pcolormesh(xx, yy, fxy,cmap='rainbow')\n",
        "plt.colorbar(c,label='f(x,y)')\n",
        "plt.quiver(xx,yy,u,v,label='Gradient')\n",
        "plt.legend()\n",
        "plt.show()"
      ]
    },
    {
      "cell_type": "markdown",
      "source": [
        "###Caption\n",
        "This plots f(x,y) = x-y scalar field as a colormap with its gradient vectors plotted as arrows (black). Note that all arrows point down (-y) and to the right (+x) as expected.\n"
      ],
      "metadata": {
        "id": "bN4_oLtIsnbX"
      }
    },
    {
      "cell_type": "markdown",
      "metadata": {
        "id": "OwMQx08ektzo"
      },
      "source": [
        "## Assuming that $\\vec{v}(x,y)=-y\\hat{x}+x\\hat{y}$, calculate the divergence of this function"
      ]
    },
    {
      "cell_type": "code",
      "execution_count": null,
      "metadata": {
        "id": "V13zut7oktzo"
      },
      "outputs": [],
      "source": [
        "n=6\n",
        "x,y=np.linspace(-1,1,n),np.linspace(-1,1,n)\n",
        "\n",
        "xx,yy = np.meshgrid(x,y, indexing='ij')\n",
        "\n",
        "vx= -yy\n",
        "vy= xx\n",
        "\n",
        "div= (np.gradient(vx,x,axis=0) + np.gradient(vy,y,axis=1))\n",
        "\n",
        "#displaying what this looks like\n",
        "c=plt.pcolormesh(xx, yy, div,cmap='rainbow',vmin=-1,vmax=3)\n",
        "plt.colorbar(c,label='divergence')\n",
        "\n",
        "\n",
        "plt.quiver(xx,yy,vx,vy,label='v(x,y)')\n",
        "plt.legend()\n",
        "plt.show()"
      ]
    },
    {
      "cell_type": "markdown",
      "source": [
        "###Caption\n",
        "This plots v(x,y) = -y(xhat) + x(yhat) vector field using arrows (black) with its divergence displayed as a colormap. Note that the divergence is 0 everywhere, as expected."
      ],
      "metadata": {
        "id": "5kRzhMWgskuA"
      }
    },
    {
      "cell_type": "markdown",
      "metadata": {
        "id": "e1n9N7e3ktzp"
      },
      "source": [
        "## Curl\n",
        "\n",
        "Calculating curl will add z dimension, so we might as well handle it explicitly, setting $\\vec{v_z}=0$ (but keeping the same shape as $\\vec{v_x}$ and $\\vec{v_y}$, this is important!), otherwise we will keep $\\vec{v}$ the same as earlier.\n",
        "\n",
        "The code below would make a plot of our vector $\\vec{v}$ at every point we computed.\n",
        "\n",
        "### Numerically calculate the curl, and add a second trace with the vector corresponding to it. Remember that\n",
        "\n",
        "$$\\vec{\\nabla}\\times\\vec{v}=\\left(\\frac{\\partial v_z}{dy}-\\frac{\\partial v_y}{dz}\\right)\\hat{x}+\\left(\\frac{\\partial v_x}{dz}-\\frac{\\partial v_z}{dx}\\right)\\hat{y}+\\left(\\frac{\\partial v_y}{dx}-\\frac{\\partial v_x}{dy}\\right)\\hat{z}$$\n",
        "\n",
        "Set its colorscale to 'bluered_r'\n",
        "\n",
        "As a result, you should have two set of vectors - in red you'll display the original function, and in blue you'll display the curl."
      ]
    },
    {
      "cell_type": "code",
      "execution_count": null,
      "metadata": {
        "id": "zE1Dp1Pektzp"
      },
      "outputs": [],
      "source": [
        "n=6\n",
        "x,y,z=np.linspace(-1,1,n),np.linspace(-1,1,n),np.linspace(0,1,2)\n",
        "xx,yy,zz = np.meshgrid(x,y,z, indexing='ij')\n",
        "\n",
        "vx= -yy\n",
        "vy= xx\n",
        "vz= vx*0 # same shape as vx, but setting every element to zero.\n",
        "\n",
        "\n",
        "\n",
        "#flatten allows transforming from 2d or 3d arrays to just 1d, which is what is required by the Cone function\n",
        "fig = go.Figure()\n",
        "fig.add_trace(go.Cone(\n",
        "    x=xx.flatten(),\n",
        "    y=yy.flatten(),\n",
        "    z=zz.flatten(),\n",
        "    u=vx.flatten(),\n",
        "    v=vy.flatten(),\n",
        "    w=vz.flatten(),\n",
        "    colorscale='bluered',\n",
        "    cmin=0,\n",
        "    cmax=0.0001,\n",
        "    name='v(x,y,z)',\n",
        "    sizeref=0.1,\n",
        "    showlegend=True,\n",
        "    showscale=False))\n",
        "\n",
        "cx=(np.gradient(vz,y,axis=1) - np.gradient(vy,z,axis=2))\n",
        "cy=(np.gradient(vx,z,axis=2) - np.gradient(vz,x,axis=0))\n",
        "cz=(np.gradient(vy,x,axis=0) - np.gradient(vx,y,axis=1))\n",
        "\n",
        "'''\n",
        "print(cx)\n",
        "print(cy)\n",
        "print(cz)\n",
        "'''\n",
        "\n",
        "#Add a trace showing curl vectors\n",
        "fig.add_trace(go.Cone(\n",
        "    x=xx.flatten(),\n",
        "    y=yy.flatten(),\n",
        "    z=zz.flatten(),\n",
        "    u=cx.flatten(),\n",
        "    v=cy.flatten(),\n",
        "    w=cz.flatten(),\n",
        "    colorscale='bluered_r',\n",
        "    cmin=0,\n",
        "    cmax=0.0001,\n",
        "    name='Curl of v(x,y,z)',\n",
        "    sizeref=0.1,\n",
        "    showlegend=True,\n",
        "    showscale=False))\n",
        "\n",
        "fig.show()"
      ]
    },
    {
      "cell_type": "markdown",
      "source": [
        "###Caption\n",
        "This plots v(x,y,z) = -y(xhat) + x(yhat) vector field using red cones with its curl vector field using blue cones. The curl vector field is constant (2) pointing in positive (zhat)."
      ],
      "metadata": {
        "id": "JSUtwuflueeE"
      }
    },
    {
      "cell_type": "markdown",
      "metadata": {
        "id": "Uv7fUbPxktzp"
      },
      "source": [
        "## Repeat finding divergence and curl of a different vector $\\vec{v}(x,y)=x\\hat{x}+y\\hat{y}$"
      ]
    },
    {
      "cell_type": "code",
      "execution_count": null,
      "metadata": {
        "id": "4U3RGtsdktzq"
      },
      "outputs": [],
      "source": [
        "n=6\n",
        "x,y=np.linspace(-1,1,n),np.linspace(-1,1,n)\n",
        "\n",
        "xx,yy = np.meshgrid(x,y, indexing='ij')\n",
        "\n",
        "vx= xx\n",
        "vy= yy\n",
        "\n",
        "div= (np.gradient(vx,x,axis=0) + np.gradient(vy,y,axis=1))\n",
        "\n",
        "#displaying what this looks like\n",
        "c=plt.pcolormesh(xx, yy, div,cmap='rainbow',vmin=-1,vmax=3)\n",
        "plt.colorbar(c,label='divergence')\n",
        "\n",
        "\n",
        "plt.quiver(xx,yy,vx,vy,label='v(x,y)')\n",
        "plt.legend()\n",
        "plt.show()"
      ]
    },
    {
      "cell_type": "markdown",
      "source": [
        "### Caption\n",
        "This plots v(x,y) = x(xhat) + y(yhat) vector field using arrows (black) with its divergence displayed as a colormap. Note that the divergence is 2 everywhere, as expected. Also, that the v(x,y) field expands outwards."
      ],
      "metadata": {
        "id": "P9fZdJuj4nNj"
      }
    },
    {
      "cell_type": "code",
      "execution_count": null,
      "metadata": {
        "id": "MKLdeiCMktzq"
      },
      "outputs": [],
      "source": [
        "n=6\n",
        "x,y,z=np.linspace(-1,1,n),np.linspace(-1,1,n),np.linspace(0,1,2)\n",
        "xx,yy,zz = np.meshgrid(x,y,z, indexing='ij')\n",
        "\n",
        "vx= xx\n",
        "vy= yy\n",
        "vz= vx*0 # same shape as vx, but setting every element to zero.\n",
        "\n",
        "\n",
        "\n",
        "#flatten allows transforming from 2d or 3d arrays to just 1d, which is what is required by the Cone function\n",
        "fig = go.Figure()\n",
        "fig.add_trace(go.Cone(\n",
        "    x=xx.flatten(),\n",
        "    y=yy.flatten(),\n",
        "    z=zz.flatten(),\n",
        "    u=vx.flatten(),\n",
        "    v=vy.flatten(),\n",
        "    w=vz.flatten(),\n",
        "    colorscale='bluered',\n",
        "    cmin=0,\n",
        "    cmax=0.0001,\n",
        "    name='v(x,y,z)',\n",
        "    sizeref=0.1,\n",
        "    showlegend=True,\n",
        "    showscale=False))\n",
        "\n",
        "cx=(np.gradient(vz,y,axis=1) - np.gradient(vy,z,axis=2))\n",
        "cy=(np.gradient(vx,z,axis=2) - np.gradient(vz,x,axis=0))\n",
        "cz=(np.gradient(vy,x,axis=0) - np.gradient(vx,y,axis=1))\n",
        "\n",
        "\n",
        "#Add a trace showing curl vectors\n",
        "fig.add_trace(go.Cone(\n",
        "    x=xx.flatten(),\n",
        "    y=yy.flatten(),\n",
        "    z=zz.flatten(),\n",
        "    u=cx.flatten(),\n",
        "    v=cy.flatten(),\n",
        "    w=cz.flatten(),\n",
        "    colorscale='bluered',\n",
        "    cmin=0,\n",
        "    cmax=0.0001,\n",
        "    name='Curl of v(x,y,z)',\n",
        "    sizeref=0.2,\n",
        "    showlegend=True,\n",
        "    showscale=False))\n",
        "\n",
        "fig.show()"
      ]
    },
    {
      "cell_type": "markdown",
      "source": [
        "### Caption\n",
        "This plots v(x,y,z) = x(xhat) + y(yhat) vector field using red cones with its curl vector field using blue cones. Note that we've scaled up the sizeref for the curl vectors, but you will stil see that their norms are all near zero, as expected."
      ],
      "metadata": {
        "id": "CFP4id-M4j8Q"
      }
    },
    {
      "cell_type": "markdown",
      "metadata": {
        "id": "lhSm6rIgktzr"
      },
      "source": [
        "#### Question\n",
        "\n",
        "Calculate the divergence and the curl of both of these vectors algebreically. Do the numerical derivatives agree with your calculations? Pay particular attention to the values that are supposed to be 0."
      ]
    },
    {
      "cell_type": "markdown",
      "metadata": {
        "id": "YLlk6dMSktzr"
      },
      "source": [
        "#### Answer\n",
        "Divergence of v1 = 0. Curl of v1 = (0,0,2). Divergence of v2 = 2. Curl of v2 = (0,0,0). These divergences and curls match what we expect from our preivous computations/visualizations. This explains why the divergence color maps were a constant color (0 for v1, 2 for v2). It also explains why the curl vector field was entirely 2(zhat) for v1 and why it was entirely near zero for v2."
      ]
    },
    {
      "cell_type": "markdown",
      "metadata": {
        "id": "6KVbfmlbktzr"
      },
      "source": [
        "----\n",
        "In these cases, curl was pointed in $\\hat{z}$ direction only because $\\vec{v}$ was positioned solely in $\\hat{x}$ and $\\hat{y}$ directions. This is of course not always the case.\n",
        "\n",
        "### Plot the curl of a vector $$\\vec{v}=xz\\hat{x}+xy\\hat{y}+yz\\hat{z}$$\n",
        "\n",
        "Redefine z so that it also goes from -1 to 1 n times.\n",
        "You may need to experiment with sizeref term in plotting"
      ]
    },
    {
      "cell_type": "code",
      "execution_count": null,
      "metadata": {
        "id": "svkKZJZkktzr"
      },
      "outputs": [],
      "source": [
        "n=6\n",
        "x,y,z=np.linspace(-1,1,n),np.linspace(-1,1,n),np.linspace(-1,1,n)\n",
        "xx,yy,zz = np.meshgrid(x,y,z, indexing='ij')\n",
        "\n",
        "vx= xx*zz\n",
        "vy= xx*yy\n",
        "vz= yy*zz\n",
        "\n",
        "\n",
        "\n",
        "#flatten allows transforming from 2d or 3d arrays to just 1d, which is what is required by the Cone function\n",
        "fig = go.Figure()\n",
        "fig.add_trace(go.Cone(\n",
        "    x=xx.flatten(),\n",
        "    y=yy.flatten(),\n",
        "    z=zz.flatten(),\n",
        "    u=vx.flatten(),\n",
        "    v=vy.flatten(),\n",
        "    w=vz.flatten(),\n",
        "    colorscale='bluered',\n",
        "    cmin=0,\n",
        "    cmax=0.0001,\n",
        "    name='v(x,y,z)',\n",
        "    sizeref=0.3,\n",
        "    showlegend=True,\n",
        "    showscale=False))\n",
        "\n",
        "cx=(np.gradient(vz,y,axis=1) - np.gradient(vy,z,axis=2))\n",
        "cy=(np.gradient(vx,z,axis=2) - np.gradient(vz,x,axis=0))\n",
        "cz=(np.gradient(vy,x,axis=0) - np.gradient(vx,y,axis=1))\n",
        "\n",
        "\n",
        "#Add a trace showing curl vectors\n",
        "fig.add_trace(go.Cone(\n",
        "    x=xx.flatten(),\n",
        "    y=yy.flatten(),\n",
        "    z=zz.flatten(),\n",
        "    u=cx.flatten(),\n",
        "    v=cy.flatten(),\n",
        "    w=cz.flatten(),\n",
        "    colorscale='bluered_r',\n",
        "    cmin=0,\n",
        "    cmax=0.0001,\n",
        "    name='Curl of v(x,y,z)',\n",
        "    sizeref=0.2,\n",
        "    showlegend=True,\n",
        "    showscale=False))\n",
        "\n",
        "fig.show()"
      ]
    },
    {
      "cell_type": "markdown",
      "source": [
        "### Caption\n",
        "This plots v(x,y,z) = xz(xhat) + xy(yhat) + yz(zhat) vector field using red cones with its curl vector field using blue cones."
      ],
      "metadata": {
        "id": "QnxeVEsJ4gkE"
      }
    },
    {
      "cell_type": "markdown",
      "metadata": {
        "id": "SFFsyp0Gktzs"
      },
      "source": [
        "#### Question\n",
        "Experiment with curls of different functions. Is curl always perpendicular to the vector?"
      ]
    },
    {
      "cell_type": "code",
      "execution_count": null,
      "metadata": {
        "id": "8TLT2cFLktzs"
      },
      "outputs": [],
      "source": [
        "n=6\n",
        "x,y,z=np.linspace(-1,1,n),np.linspace(-1,1,n),np.linspace(-1,1,n)\n",
        "xx,yy,zz = np.meshgrid(x,y,z, indexing='ij')\n",
        "\n",
        "vx= (xx**2)\n",
        "vy= (xx*yy*zz)\n",
        "vz= 3*(zz**3) + 2\n",
        "\n",
        "\n",
        "\n",
        "#flatten allows transforming from 2d or 3d arrays to just 1d, which is what is required by the Cone function\n",
        "fig = go.Figure()\n",
        "fig.add_trace(go.Cone(\n",
        "    x=xx.flatten(),\n",
        "    y=yy.flatten(),\n",
        "    z=zz.flatten(),\n",
        "    u=vx.flatten(),\n",
        "    v=vy.flatten(),\n",
        "    w=vz.flatten(),\n",
        "    colorscale='bluered',\n",
        "    cmin=0,\n",
        "    cmax=0.0001,\n",
        "    name='v(x,y,z)',\n",
        "    sizeref=0.1,\n",
        "    showlegend=True,\n",
        "    showscale=False))\n",
        "\n",
        "cx=(np.gradient(vz,y,axis=1) - np.gradient(vy,z,axis=2))\n",
        "cy=(np.gradient(vx,z,axis=2) - np.gradient(vz,x,axis=0))\n",
        "cz=(np.gradient(vy,x,axis=0) - np.gradient(vx,y,axis=1))\n",
        "\n",
        "\n",
        "#Add a trace showing curl vectors\n",
        "fig.add_trace(go.Cone(\n",
        "    x=xx.flatten(),\n",
        "    y=yy.flatten(),\n",
        "    z=zz.flatten(),\n",
        "    u=cx.flatten(),\n",
        "    v=cy.flatten(),\n",
        "    w=cz.flatten(),\n",
        "    colorscale='bluered_r',\n",
        "    cmin=0,\n",
        "    cmax=0.0001,\n",
        "    name='Curl of v(x,y,z)',\n",
        "    sizeref=0.3,\n",
        "    showlegend=True,\n",
        "    showscale=False))\n",
        "\n",
        "#fig.show()"
      ]
    },
    {
      "cell_type": "markdown",
      "metadata": {
        "id": "ZurQ6nGlktzs"
      },
      "source": [
        "####Answer\n",
        "\n",
        "No, the curl is not always perpendicular to the vector field. In some cases, particularly where the vector field is within a plane (our previous 2D vectors), the curl vector field will be perpendicular, but not all cases."
      ]
    },
    {
      "cell_type": "markdown",
      "metadata": {
        "id": "PaCywv7Mktzs"
      },
      "source": [
        "----\n",
        "## Extra Credit"
      ]
    },
    {
      "cell_type": "markdown",
      "metadata": {
        "id": "HUsD2hY7ktzt"
      },
      "source": [
        "Plot divergence of vector $\\vec{v}=xz\\hat{x}+xy\\hat{y}+yz\\hat{z}$ in 3d using iso-surfaces. Refer to this tuturial to how it can be set up\n",
        "\n",
        "https://plotly.com/python/3d-isosurface-plots/\n",
        "\n",
        "Set surface_count to 20."
      ]
    },
    {
      "cell_type": "code",
      "execution_count": null,
      "metadata": {
        "id": "Ln1eQsZbktzt"
      },
      "outputs": [],
      "source": [
        "import plotly.graph_objects as go\n",
        "\n",
        "n=6\n",
        "x,y,z=np.linspace(-1,1,n),np.linspace(-1,1,n),np.linspace(-1,1,n)\n",
        "xx,yy,zz = np.meshgrid(x,y,z, indexing='ij')\n",
        "\n",
        "vx= xx*zz\n",
        "vy= xx*yy\n",
        "vz= yy*zz\n",
        "\n",
        "div= (np.gradient(vx,x,axis=0) + np.gradient(vy,y,axis=1) + np.gradient(vz,z,axis=2))\n",
        "\n",
        "fig= go.Figure(data=go.Isosurface(\n",
        "    x=xx.flatten(),\n",
        "    y=yy.flatten(),\n",
        "    z=zz.flatten(),\n",
        "    value=div.flatten(),\n",
        "    surface_count=20,\n",
        "    showlegend=True\n",
        "))\n",
        "\n",
        "fig.show()"
      ]
    },
    {
      "cell_type": "markdown",
      "source": [
        "### Caption\n",
        "This is a 3D isosurface plot of the divergence of the vector field v = xz(xhat) + xy(yhat) + yz(zhat) which evaluates to x+y+z and as seen in the visualization, it is essentially a colormapped summing of the unit cube for the cartesian system."
      ],
      "metadata": {
        "id": "C9BXIisv84UY"
      }
    }
  ],
  "metadata": {
    "kernelspec": {
      "display_name": "Python 3",
      "name": "python3"
    },
    "language_info": {
      "codemirror_mode": {
        "name": "ipython",
        "version": 3
      },
      "file_extension": ".py",
      "mimetype": "text/x-python",
      "name": "python",
      "nbconvert_exporter": "python",
      "pygments_lexer": "ipython3",
      "version": "3.9.7"
    },
    "colab": {
      "provenance": [],
      "generative_ai_disabled": true,
      "include_colab_link": true
    }
  },
  "nbformat": 4,
  "nbformat_minor": 0
}