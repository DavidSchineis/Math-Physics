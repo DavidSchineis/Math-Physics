{
  "nbformat": 4,
  "nbformat_minor": 0,
  "metadata": {
    "colab": {
      "provenance": [],
      "generative_ai_disabled": true,
      "include_colab_link": true
    },
    "kernelspec": {
      "name": "python3",
      "display_name": "Python 3"
    },
    "language_info": {
      "name": "python"
    }
  },
  "cells": [
    {
      "cell_type": "markdown",
      "metadata": {
        "id": "view-in-github",
        "colab_type": "text"
      },
      "source": [
        "<a href=\"https://colab.research.google.com/github/DavidSchineis/Math-Physics/blob/main/Copy_of_Lab_6.ipynb\" target=\"_parent\"><img src=\"https://colab.research.google.com/assets/colab-badge.svg\" alt=\"Open In Colab\"/></a>"
      ]
    },
    {
      "cell_type": "markdown",
      "source": [
        "#Abstract\n",
        "This lab focuses on verifying the Divergence Theorem. We used ConvexHull to construct triangular meshes for different closed surfaces such as spheres, half-spheres, cylinders, cubes, and cones. We used meshgrid to create surface integrals of various vector fields. Then, we set up volume integrals by calculating divergence with np.gradient, masking out anything outside of our bounds. For each case, we compared the two inetegral results and confirmed that they matched closely with each other as well as with the by-hand value. This lab highlights how surface and volume integrals can be implemented in Python and how they can be used to confirm the Divergence Theorem across different shapes. Importantly, we also showed that the results follow the expected dependence on radius, height, or side length for each shape, and matched the by-hand calculations when at the given radius, height, or length."
      ],
      "metadata": {
        "id": "5KVZrS2CY5kP"
      }
    },
    {
      "cell_type": "markdown",
      "source": [
        "---\n",
        "\n",
        "As the midway point through the semester, today's lab will serve as a culmination of all the various skills that we have practiced throughout this semester as we numerically verify the divergence theorem. However, setting up surface integrals from scratch is far from trivial, thus the code how to do so is provided to you below. This code can take an arbitrary array of triangles that define each small surface on a 3-d mesh, and finds the integral of a vector along the surface of this triangle."
      ],
      "metadata": {
        "id": "gyfho9DEY-2W"
      }
    },
    {
      "cell_type": "code",
      "source": [
        "import numpy as np\n",
        "from numpy import pi, cos, sin, tan, cosh, sinh, tanh\n",
        "from scipy.spatial import ConvexHull\n",
        "import plotly.graph_objects as go\n",
        "\n",
        "def surface_integral_from_triangulation(vertices,vector):\n",
        "  def surface_triangle(a, b, c, resolution=20):\n",
        "    ab = b - a\n",
        "    ac = c - a\n",
        "    normal = np.cross(ab, ac).astype(np.float64)\n",
        "    normal /= np.linalg.norm(normal)\n",
        "\n",
        "\n",
        "    u = np.linspace(0, 1, resolution)\n",
        "    v = np.linspace(0, 1, resolution)\n",
        "    uu, vv = np.meshgrid(u, v)\n",
        "    mask = (uu + vv <= 1)\n",
        "\n",
        "    points = a[None, None, :] + uu[..., None]*ab + vv[..., None]*ac\n",
        "    xs, ys, zs = points[..., 0], points[..., 1], points[..., 2]\n",
        "\n",
        "    return normal, xs, ys, zs, mask\n",
        "\n",
        "  ar = 0\n",
        "  for i in range(len(vertices)):\n",
        "    a, b, c = vertices[i, 0], vertices[i, 1], vertices[i, 2]\n",
        "    normal, xs, ys, zs, mask = surface_triangle(a, b, c)\n",
        "\n",
        "    center = np.mean(p, axis=0)\n",
        "    if np.dot(normal, a - center) < 0:\n",
        "        normal = -normal\n",
        "\n",
        "    vxs, vys, vzs = vector(xs, ys, zs)\n",
        "    dot = (normal[0] * vxs + normal[1] * vys + normal[2] * vzs)\n",
        "\n",
        "    triangle_area = 0.5 * np.linalg.norm(np.cross(b - a, c - a))\n",
        "    area = triangle_area * np.mean(dot[mask])\n",
        "    ar += area\n",
        "\n",
        "  return(ar)"
      ],
      "metadata": {
        "id": "r2rniFdNaW2e"
      },
      "execution_count": null,
      "outputs": []
    },
    {
      "cell_type": "markdown",
      "source": [
        "Let's evaluate this integral along the surface of a sphere. Similarly to how we have done in a few labs back, define x, y, and z positions corresponding to the surface of the sphere with radius of 1, and make a 3d plot of it. In defining theta and phi angles, don't use more than 30 points to aid visualization."
      ],
      "metadata": {
        "id": "5ZSyK17YbemI"
      }
    },
    {
      "cell_type": "code",
      "source": [
        "theta = np.linspace(0, 2*pi, 30)\n",
        "phi   = np.linspace(0, pi, 30)\n",
        "\n",
        "thetaGrid, phiGrid = np.meshgrid(theta, phi, indexing='xy')\n",
        "\n",
        "x = sin(phiGrid) * cos(thetaGrid)\n",
        "y = sin(phiGrid) * sin(thetaGrid)\n",
        "z = cos(phiGrid)\n",
        "\n",
        "fig = go.Figure()\n",
        "fig.add_trace(go.Surface(x=x, y=y, z=z, showscale=False))\n",
        "\n",
        "fig.update_layout(\n",
        "    scene=dict(\n",
        "        xaxis_title='x',\n",
        "        yaxis_title='y',\n",
        "        zaxis_title='z'\n",
        "    ),\n",
        "    scene_aspectmode='data'\n",
        ")\n",
        "\n",
        "fig.show()"
      ],
      "metadata": {
        "id": "AaUMeFGlufGM"
      },
      "execution_count": null,
      "outputs": []
    },
    {
      "cell_type": "markdown",
      "source": [
        "### Caption\n",
        "This is a surface plot of a unit sphere in spherical coordinates where r=1, theta=0 to 2pi, phi=0 to pi.\n"
      ],
      "metadata": {
        "id": "HxHYv4_sO7N2"
      }
    },
    {
      "cell_type": "markdown",
      "source": [
        "Having all of these individual points at hand, we will stack x, y, and z positions into a single array, and then, using ConvexHull, for each point we will find neighboring points that could be used as the vertices of trinangles."
      ],
      "metadata": {
        "id": "nvpyzaRPcQuX"
      }
    },
    {
      "cell_type": "code",
      "source": [
        "p = np.stack([x.flatten(), y.flatten(), z.flatten()]).T\n",
        "\n",
        "\n",
        "tri = ConvexHull(p)\n",
        "indices = tri.simplices\n",
        "vertices = p[indices]\n",
        "xs=x.flatten()[indices]\n",
        "ys=y.flatten()[indices]\n",
        "zs=z.flatten()[indices]\n",
        "\n",
        "print(xs)\n"
      ],
      "metadata": {
        "id": "aNP49NDRcnds"
      },
      "execution_count": null,
      "outputs": []
    },
    {
      "cell_type": "markdown",
      "source": [
        "To visualize the resulting mesh that this has created, create an empty plotly figure, and then, iterating over all of the triangles that were created above in a for loop, add all of these triangles to the plot using go.Scatter3d function."
      ],
      "metadata": {
        "id": "WylbFPpmdoB5"
      }
    },
    {
      "cell_type": "code",
      "source": [
        "fig = go.Figure()\n",
        "\n",
        "for i in range(len(vertices)):\n",
        "\n",
        "  xtri = [xs[i,0],xs[i,1],xs[i,2],xs[i,0]]\n",
        "  ytri = [ys[i,0],ys[i,1],ys[i,2],ys[i,0]]\n",
        "  ztri = [zs[i,0],zs[i,1],zs[i,2],zs[i,0]]\n",
        "\n",
        "  fig.add_trace(go.Scatter3d(x=xtri, y=ytri, z=ztri,mode='lines'))\n",
        "\n",
        "fig.show()"
      ],
      "metadata": {
        "id": "ZMNeEXFgeDDo"
      },
      "execution_count": null,
      "outputs": []
    },
    {
      "cell_type": "markdown",
      "source": [
        "### Caption\n",
        "This a surface plot of unit sphere made with trianglular mesh in spherical coordinates where r=1, theta=0 to 2pi, phi=0 to pi."
      ],
      "metadata": {
        "id": "2RZOQ7h8O9lW"
      }
    },
    {
      "cell_type": "markdown",
      "source": [
        "We will now define a vector\n",
        "\n",
        "$\\vec{v}=z\\hat{z}$\n",
        "\n",
        "Using this vector, we will compute the surface integral using the provided function"
      ],
      "metadata": {
        "id": "1EsNvjw0fKOv"
      }
    },
    {
      "cell_type": "code",
      "source": [
        "def vector(xx,yy,zz):\n",
        "    vx=np.zeros_like(xx)\n",
        "    vy=np.zeros_like(yy)\n",
        "    vz=zz\n",
        "    return(vx,vy,vz)\n",
        "\n",
        "ar=surface_integral_from_triangulation(vertices,vector)\n",
        "print(\"Computed surface integral:\", ar)\n",
        "\n"
      ],
      "metadata": {
        "id": "_VFunp_ncPbh"
      },
      "execution_count": null,
      "outputs": []
    },
    {
      "cell_type": "markdown",
      "source": [
        "We will now perform a test to see if the surface integral of the divergence of this vector matches the surface integral we have found.\n",
        "\n",
        "- To do that, first define x, y, and z arrays to define our axes (all to be between -1 and 1), then pass them along to meshgrid (don't forget indexing='ij') to define xyz positions of every single point within a cube.\n",
        "\n",
        "- Calculate vx, vy, and vz components of the vector for every single point in this cube.\n",
        "\n",
        "- Using np.gradient, calculate the divergence within every single point of the cube.\n",
        "\n",
        "- Similarly to how we approached it last time, using np.where, find points that are outside the surface of our sphere with radius 1, and set the divergence for these points to zero, to make them not be a factor while we are doing the volume integral.\n",
        "\n",
        "- Finally a volume integral would be very similar to the surface integral we have done last time. First take the divergence and integrate it with respect to z, then take that result and integrate it with respect to y, finally, integrate the result with respect to x."
      ],
      "metadata": {
        "id": "ZYIi54Sqge00"
      }
    },
    {
      "cell_type": "code",
      "source": [
        "x,y,z=np.linspace(-1,1),np.linspace(-1,1),np.linspace(-1,1)\n",
        "xx,yy,zz = np.meshgrid(x,y,z, indexing='ij')\n",
        "\n",
        "vx = np.zeros_like(xx)\n",
        "vy = np.zeros_like(yy)\n",
        "vz = zz\n",
        "\n",
        "div= (np.gradient(vx,x,axis=0) + np.gradient(vy,y,axis=1) + np.gradient(vz,z,axis=2))\n",
        "\n",
        "a = np.where(np.sqrt((xx**2) + (yy**2) + (zz**2)) > 1)\n",
        "div[a] = 0\n",
        "\n",
        "V = np.trapezoid(div,z,axis=2)\n",
        "V = np.trapezoid(V,y,axis=1)\n",
        "V = np.trapezoid(V,x,axis=0)\n",
        "\n",
        "print(V)\n"
      ],
      "metadata": {
        "id": "G9jRBGZBcPeo"
      },
      "execution_count": null,
      "outputs": []
    },
    {
      "cell_type": "markdown",
      "source": [
        "#### Question:\n",
        "- How closely were you able to match two sets of integrals to each other?\n",
        "- Evaluate either the surface or the volume integral yourself on paper. What is the expected value? Write out a full expression, to explicitly show the dependence on radius, and then evaluate it for r=1. How closely were you able to recover it?\n",
        "#### Answer:\n",
        "- The surafce integral was 4.143913573412861 while the volume integral was 4.177307074433272.\n",
        "- The expected by-hand value is 4pir^3/3 which at r=1 is 4pi/3 = 4.189. Our calculated integrals are within 1-2% error of the by-hand value"
      ],
      "metadata": {
        "id": "TjJ6nuPcmAHy"
      }
    },
    {
      "cell_type": "markdown",
      "source": [
        "----\n",
        "Repeat the above (including visualizations), but for a half-sphere with radius of 1 above the x-y plane with $\\vec{v}=r\\hat{z}$"
      ],
      "metadata": {
        "id": "Pxkqv8-YnBg8"
      }
    },
    {
      "cell_type": "code",
      "source": [
        "theta = np.linspace(0, 2*pi, 30)\n",
        "phi   = np.linspace(0, pi/2, 30)\n",
        "\n",
        "thetaGrid, phiGrid = np.meshgrid(theta, phi, indexing='xy')\n",
        "\n",
        "x = sin(phiGrid) * cos(thetaGrid)\n",
        "y = sin(phiGrid) * sin(thetaGrid)\n",
        "z = cos(phiGrid)\n",
        "\n",
        "fig = go.Figure()\n",
        "fig.add_trace(go.Surface(x=x, y=y, z=z, showscale=False))\n",
        "\n",
        "fig.update_layout(\n",
        "    scene=dict(\n",
        "        xaxis_title='x',\n",
        "        yaxis_title='y',\n",
        "        zaxis_title='z'\n",
        "    ),\n",
        "    scene_aspectmode='data'\n",
        ")\n",
        "\n",
        "fig.show()\n",
        "\n",
        "\n",
        "\n",
        "p = np.stack([x.flatten(), y.flatten(), z.flatten()]).T\n",
        "\n",
        "tri = ConvexHull(p)\n",
        "indices = tri.simplices\n",
        "vertices = p[indices]\n",
        "xs=x.flatten()[indices]\n",
        "ys=y.flatten()[indices]\n",
        "zs=z.flatten()[indices]\n",
        "\n",
        "\n",
        "\n",
        "fig = go.Figure()\n",
        "\n",
        "for i in range(len(vertices)):\n",
        "\n",
        "  xtri = [xs[i,0],xs[i,1],xs[i,2],xs[i,0]]\n",
        "  ytri = [ys[i,0],ys[i,1],ys[i,2],ys[i,0]]\n",
        "  ztri = [zs[i,0],zs[i,1],zs[i,2],zs[i,0]]\n",
        "\n",
        "  fig.add_trace(go.Scatter3d(x=xtri, y=ytri, z=ztri,mode='lines'))\n",
        "\n",
        "fig.show()\n",
        "\n",
        "\n",
        "\n",
        "def vector(xx,yy,zz):\n",
        "    r = np.sqrt(xx**2 + yy**2 + zz**2)\n",
        "    vx=np.zeros_like(xx)\n",
        "    vy=np.zeros_like(yy)\n",
        "    vz=r\n",
        "    return(vx,vy,vz)\n",
        "\n",
        "ar=surface_integral_from_triangulation(vertices,vector)\n",
        "print(\"Computed surface integral:\", ar)\n",
        "\n",
        "\n",
        "\n",
        "x,y,z=np.linspace(-1,1),np.linspace(-1,1),np.linspace(0,1)\n",
        "xx,yy,zz = np.meshgrid(x,y,z, indexing='ij')\n",
        "\n",
        "vx = np.zeros_like(xx)\n",
        "vy = np.zeros_like(yy)\n",
        "vz = np.sqrt((xx**2) + (yy**2) + (zz**2))\n",
        "\n",
        "div= (np.gradient(vx,x,axis=0) + np.gradient(vy,y,axis=1) + np.gradient(vz,z,axis=2))\n",
        "\n",
        "r = np.sqrt((xx**2) + (yy**2) + (zz**2))\n",
        "a = np.where(r > 1)\n",
        "div[a] = 0\n",
        "\n",
        "V = np.trapezoid(div,z,axis=2)\n",
        "V = np.trapezoid(V,y,axis=1)\n",
        "V = np.trapezoid(V,x,axis=0)\n",
        "\n",
        "print(V)"
      ],
      "metadata": {
        "id": "6zKrnKCEl_3z"
      },
      "execution_count": null,
      "outputs": []
    },
    {
      "cell_type": "markdown",
      "source": [
        "### Caption\n",
        "First plot is a surface plot of a half unit sphere in spherical coordinates where r=1, theta=0 to 2pi, phi=0 to pi/2.\n",
        "Second plot is a surface plot of a half unit sphere made with trianglular mesh in spherical coordinates where r=1, theta=0 to 2pi, phi=0 to pi/2."
      ],
      "metadata": {
        "id": "vXLbKdJOzdZc"
      }
    },
    {
      "cell_type": "markdown",
      "source": [
        "#### Question:\n",
        "- How closely were you able to match two sets of integrals to each other?\n",
        "- Evaluate either the surface or the volume integral yourself on paper. What is the expected value? Write out a full expression, to explicitly show the dependence on radius, and then evaluate it for r=1. How closely were you able to recover it?\n",
        "#### Answer:\n",
        "- The surafce integral was 0.985978133826052 while the volume integral was 1.045366901291943.\n",
        "- The expected by-hand value is pir^3/3 which at r=1 is pi/3 = 1.047. Our calculated integrals are within 0-6% error of the by-hand value with the surface integral varying much more than the volume."
      ],
      "metadata": {
        "id": "YrmMrcUmpaCy"
      }
    },
    {
      "cell_type": "markdown",
      "source": [
        "----\n",
        "Repeat the above (including visualizations), but for a cylinder with radius of 2, and height from 0 to 3 and the vector field of $\\vec{v}=r\\hat{r}$."
      ],
      "metadata": {
        "id": "Mm0mqMm7pc_H"
      }
    },
    {
      "cell_type": "code",
      "source": [
        "R = 2\n",
        "theta = np.linspace(0, 2*pi, 30)\n",
        "z = np.linspace(0, 3, 30)\n",
        "\n",
        "thetaGrid, zGrid = np.meshgrid(theta, z, indexing='xy')\n",
        "\n",
        "x = 2*cos(thetaGrid)\n",
        "y = 2*sin(thetaGrid)\n",
        "z = zGrid\n",
        "\n",
        "fig = go.Figure()\n",
        "fig.add_trace(go.Surface(x=x, y=y, z=z, showscale=False))\n",
        "\n",
        "fig.update_layout(\n",
        "    scene=dict(\n",
        "        xaxis_title='x',\n",
        "        yaxis_title='y',\n",
        "        zaxis_title='z'\n",
        "    ),\n",
        "    scene_aspectmode='data'\n",
        ")\n",
        "\n",
        "fig.show()\n",
        "\n",
        "\n",
        "\n",
        "p = np.stack([x.flatten(), y.flatten(), z.flatten()]).T\n",
        "\n",
        "tri = ConvexHull(p)\n",
        "indices = tri.simplices\n",
        "vertices = p[indices]\n",
        "xs=x.flatten()[indices]\n",
        "ys=y.flatten()[indices]\n",
        "zs=z.flatten()[indices]\n",
        "\n",
        "\n",
        "\n",
        "fig = go.Figure()\n",
        "\n",
        "for i in range(len(vertices)):\n",
        "\n",
        "  xtri = [xs[i,0],xs[i,1],xs[i,2],xs[i,0]]\n",
        "  ytri = [ys[i,0],ys[i,1],ys[i,2],ys[i,0]]\n",
        "  ztri = [zs[i,0],zs[i,1],zs[i,2],zs[i,0]]\n",
        "\n",
        "  fig.add_trace(go.Scatter3d(x=xtri, y=ytri, z=ztri, mode='lines'))\n",
        "\n",
        "fig.show()\n",
        "\n",
        "\n",
        "\n",
        "def vector(xx,yy,zz):\n",
        "    vx=xx\n",
        "    vy=yy\n",
        "    vz=np.zeros_like(zz)\n",
        "    return(vx,vy,vz)\n",
        "\n",
        "ar=surface_integral_from_triangulation(vertices,vector)\n",
        "print(\"Computed surface integral:\", ar)\n",
        "\n",
        "\n",
        "\n",
        "x,y,z=np.linspace(-R,R),np.linspace(-R,R),np.linspace(0,3)\n",
        "xx,yy,zz = np.meshgrid(x,y,z, indexing='ij')\n",
        "\n",
        "vx = xx\n",
        "vy = yy\n",
        "vz = np.zeros_like(zz)\n",
        "\n",
        "div= (np.gradient(vx,x,axis=0) + np.gradient(vy,y,axis=1) + np.gradient(vz,z,axis=2))\n",
        "\n",
        "r = np.sqrt(xx**2 + yy**2)\n",
        "a = np.where(r > R)\n",
        "div[a] = 0\n",
        "\n",
        "V = np.trapezoid(div,z,axis=2)\n",
        "V = np.trapezoid(V,y,axis=1)\n",
        "V = np.trapezoid(V,x,axis=0)\n",
        "\n",
        "print(V)"
      ],
      "metadata": {
        "id": "PXb9E4lUcPkA"
      },
      "execution_count": null,
      "outputs": []
    },
    {
      "cell_type": "markdown",
      "source": [
        "### Caption\n",
        "\n",
        "First plot is a surface plot of a cyllinder in cyllindrical coordinates where r=2, theta=0 to 2pi, z=0 to 3. Second plot is a surface plot of a cyllinder made with trianglular mesh in cyllindrical coordinates where r=2, theta=0 to 2pi, z=0 to 3."
      ],
      "metadata": {
        "id": "ewyW7k071izN"
      }
    },
    {
      "cell_type": "markdown",
      "source": [
        "#### Question:\n",
        "- How closely were you able to match two sets of integrals to each other?\n",
        "- Evaluate either the surface or the volume integral yourself on paper. What is the expected value? Write out a full expression, to explicitly show the dependence on radius and height, and then evaluate it for r=2 and h=3. How closely were you able to recover it?\n",
        "#### Answer:\n",
        "- The surafce integral was 74.8097131934363 while the volume integral was 75.00874635568512.\n",
        "- The expected by-hand value is 2pir^2h which at r=2 and h=3 is 24pi = 75.398. Both integrals are within 1% error of the by-hand value which is great agreement."
      ],
      "metadata": {
        "id": "fm11KW2irpwN"
      }
    },
    {
      "cell_type": "markdown",
      "source": [
        "----\n",
        "Repeat the above (including the mesh visualization, but not the surface one), but for a cube which has edges between 0 and 1 and the vector field of $\\vec{v}=xyz\\hat{z}+xyz\\hat{y}+xyz\\hat{z}$.\n",
        "\n",
        "Hint: we do not have a fancy function to create a cube in the same way we have for a sphere or a cylinder, but we can define all of the verticies of a cube by hand, there are 8 of them in total."
      ],
      "metadata": {
        "id": "gy0s94mjsWXz"
      }
    },
    {
      "cell_type": "code",
      "source": [
        "p =np.array([[0,0,0],[1,0,0],[0,1,0],[1,1,0],[0,0,1],[1,0,1],[0,1,1],[1,1,1]])\n",
        "tri = ConvexHull(p)\n",
        "indices = tri.simplices\n",
        "vertices = p[indices]\n",
        "xs = p[:,0].flatten()[indices]\n",
        "ys = p[:,1].flatten()[indices]\n",
        "zs = p[:,2].flatten()[indices]\n",
        "\n",
        "\n",
        "\n",
        "fig = go.Figure()\n",
        "\n",
        "for i in range(len(vertices)):\n",
        "\n",
        "  xtri = [xs[i,0],xs[i,1],xs[i,2],xs[i,0]]\n",
        "  ytri = [ys[i,0],ys[i,1],ys[i,2],ys[i,0]]\n",
        "  ztri = [zs[i,0],zs[i,1],zs[i,2],zs[i,0]]\n",
        "\n",
        "  fig.add_trace(go.Scatter3d(x=xtri, y=ytri, z=ztri,mode='lines'))\n",
        "\n",
        "fig.show()\n",
        "\n",
        "\n",
        "\n",
        "def vector(xx,yy,zz):\n",
        "    vx=xx*yy*zz\n",
        "    vy=xx*yy*zz\n",
        "    vz=xx*yy*zz\n",
        "    return(vx,vy,vz)\n",
        "\n",
        "ar=surface_integral_from_triangulation(vertices,vector)\n",
        "print(\"Computed surface integral:\", ar)\n",
        "\n",
        "\n",
        "\n",
        "x,y,z=np.linspace(0,1),np.linspace(0,1),np.linspace(0,1)\n",
        "xx,yy,zz = np.meshgrid(x,y,z, indexing='ij')\n",
        "\n",
        "vx = xx*yy*zz\n",
        "vy = xx*yy*zz\n",
        "vz = xx*yy*zz\n",
        "\n",
        "div= (np.gradient(vx,x,axis=0) + np.gradient(vy,y,axis=1) + np.gradient(vz,z,axis=2))\n",
        "\n",
        "r = np.sqrt(xx**2 + yy**2)\n",
        "a = np.where(r > R)\n",
        "div[a] = 0\n",
        "\n",
        "V = np.trapezoid(div,z,axis=2)\n",
        "V = np.trapezoid(V,y,axis=1)\n",
        "V = np.trapezoid(V,x,axis=0)\n",
        "\n",
        "print(V)"
      ],
      "metadata": {
        "id": "ntkJqO_SrNtj"
      },
      "execution_count": null,
      "outputs": []
    },
    {
      "cell_type": "markdown",
      "source": [
        "### Caption\n",
        "This is a surface plot of a cube made with the triangulated frame of a unit cube going from 0 to 1 in (x, y, z) built from its 8 vertices using ConvexHull."
      ],
      "metadata": {
        "id": "cpztTO5m5jIX"
      }
    },
    {
      "cell_type": "markdown",
      "source": [
        "#### Question:\n",
        "- How closely were you able to match two sets of integrals to each other?\n",
        "- Evaluate either the surface or the volume integral yourself on paper. What is the expected value? Write out a full expression, to explicitly show the dependence on the side of the cube, and then evaluate it for b=1. How closely were you able to recover it?\n",
        "#### Answer:\n",
        "- The surafce integral was 0.7368421052631579 while the volume integral was 0.7500000000000001.\n",
        "- The expected by-hand value is 3b^5/4 which at b=1 is 3/4 = 0.75. Both integrals are within 2% error of the by-hand value with the volume integral getting extremely close."
      ],
      "metadata": {
        "id": "LbtuhhGDFrA2"
      }
    },
    {
      "cell_type": "markdown",
      "source": [
        "---\n",
        "# Extra credit\n",
        "\n",
        "Repeat the above (including visualizations), but for a cone that satisfies a surface of $x^2+y^2=z^2$, with z ranging between 0 and 1, and the vector field of $\\vec{v}=(x-y)\\hat{x}+(x+z)\\hat{y}+(z-y)\\hat{z}$."
      ],
      "metadata": {
        "id": "U-8hywBPJll2"
      }
    },
    {
      "cell_type": "code",
      "source": [
        "theta = np.linspace(0, 2*pi, 30)\n",
        "z = np.linspace(0, 1, 30)\n",
        "\n",
        "thetaGrid, zGrid = np.meshgrid(theta, z, indexing='xy')\n",
        "\n",
        "x = zGrid*cos(thetaGrid)\n",
        "y = zGrid*sin(thetaGrid)\n",
        "z = zGrid\n",
        "\n",
        "fig = go.Figure()\n",
        "fig.add_trace(go.Surface(x=x, y=y, z=z, showscale=False))\n",
        "\n",
        "fig.update_layout(\n",
        "    scene=dict(\n",
        "        xaxis_title='x',\n",
        "        yaxis_title='y',\n",
        "        zaxis_title='z'\n",
        "    ),\n",
        "    scene_aspectmode='data'\n",
        ")\n",
        "\n",
        "fig.show()\n",
        "\n",
        "\n",
        "\n",
        "p = np.stack([x.flatten(), y.flatten(), z.flatten()]).T\n",
        "\n",
        "tri = ConvexHull(p)\n",
        "indices = tri.simplices\n",
        "vertices = p[indices]\n",
        "xs=x.flatten()[indices]\n",
        "ys=y.flatten()[indices]\n",
        "zs=z.flatten()[indices]\n",
        "\n",
        "\n",
        "\n",
        "fig = go.Figure()\n",
        "\n",
        "for i in range(len(vertices)):\n",
        "\n",
        "  xtri = [xs[i,0],xs[i,1],xs[i,2],xs[i,0]]\n",
        "  ytri = [ys[i,0],ys[i,1],ys[i,2],ys[i,0]]\n",
        "  ztri = [zs[i,0],zs[i,1],zs[i,2],zs[i,0]]\n",
        "\n",
        "  fig.add_trace(go.Scatter3d(x=xtri, y=ytri, z=ztri,mode='lines'))\n",
        "\n",
        "fig.show()\n",
        "\n",
        "\n",
        "\n",
        "def vector(xx,yy,zz):\n",
        "    vx=xx-yy\n",
        "    vy=xx+zz\n",
        "    vz=zz-yy\n",
        "    return(vx,vy,vz)\n",
        "\n",
        "ar=surface_integral_from_triangulation(vertices,vector)\n",
        "print(\"Computed surface integral:\", ar)\n",
        "\n",
        "\n",
        "\n",
        "x,y,z=np.linspace(-1,1),np.linspace(-1,1),np.linspace(0,1)\n",
        "xx,yy,zz = np.meshgrid(x,y,z, indexing='ij')\n",
        "\n",
        "vx = xx-yy\n",
        "vy = xx+zz\n",
        "vz = zz-yy\n",
        "\n",
        "div= (np.gradient(vx,x,axis=0) + np.gradient(vy,y,axis=1) + np.gradient(vz,z,axis=2))\n",
        "\n",
        "a = np.where((xx**2 + yy**2) > zz**2)\n",
        "div[a] = 0\n",
        "\n",
        "V = np.trapezoid(div,z,axis=2)\n",
        "V = np.trapezoid(V,y,axis=1)\n",
        "V = np.trapezoid(V,x,axis=0)\n",
        "\n",
        "print(V)"
      ],
      "metadata": {
        "id": "YZgTBFW7rNql"
      },
      "execution_count": null,
      "outputs": []
    },
    {
      "cell_type": "markdown",
      "source": [
        "### Caption\n",
        "First plot is a surface plot of a cone in cartesian coordinates defined by x^2 + y^2 = z^2 where z=0 to 1. Second plot is a surface plot of the same cone made with trianglular mesh in cartesian coordinates defined by x^2 + y^2 = z^2 where z=0 to 1."
      ],
      "metadata": {
        "id": "B2DIDdLABD6F"
      }
    },
    {
      "cell_type": "markdown",
      "source": [
        "#### Question:\n",
        "- How closely were you able to match two sets of integrals to each other?\n",
        "- Evaluate either the surface or the volume integral yourself on paper. What is the expected value? Write out a full expression, to explicitly show the dependence on height, and then evaluate it for z=1. How closely were you able to recover it?\n",
        "#### Answer:\n",
        "- The surafce integral was 2.078047588706566 while the volume integral was 2.0828056337070437.\n",
        "- The expected by-hand value is 2pih^3/3 which at h=1 is 2pi/3 = 2.094. Both integrals are within 1% error of the by-hand value maintaining good agreement."
      ],
      "metadata": {
        "id": "y9QqnM3DKQ_C"
      }
    }
  ]
}