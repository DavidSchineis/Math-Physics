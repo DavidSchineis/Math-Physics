{
  "cells": [
    {
      "cell_type": "markdown",
      "metadata": {
        "id": "view-in-github",
        "colab_type": "text"
      },
      "source": [
        "<a href=\"https://colab.research.google.com/github/DavidSchineis/Math-Physics/blob/main/Copy_of_Lab_1.ipynb\" target=\"_parent\"><img src=\"https://colab.research.google.com/assets/colab-badge.svg\" alt=\"Open In Colab\"/></a>"
      ]
    },
    {
      "cell_type": "markdown",
      "source": [
        "# **Lab 1 Abstract**:\n",
        "#### This lab focuses on the fundamentals of Python, exploring basic commands such as if statements, for & while loops, as well as rudimentary 2D plotting commands. Using this syntax, it explores mathematical series, including the Taylor expansion of sin and ln functions. We find that adding more terms to the Taylor series brings the approximation closer to the actual function when x is small. For sin function, the approximation improves as more terms are included, even when x is large. However, for ln, the approximation works well within -1 < x < 1 but fails to match the actual function outside of this. This lab explores how Python can be used to visualize math concepts and understand the strengths and weaknesses of Taylor expansions.\n"
      ],
      "metadata": {
        "id": "_HQ6--_YPiPe"
      }
    },
    {
      "cell_type": "markdown",
      "source": [
        "# Instructions\n",
        "Before you begin the lab, if you are running this on the Colaboratory, you should click on File -> Save a copy in Drive. It will open a new window in which you will actually write your code, and you should see a message on top \"Last saved...\" or \"All changes saved\". This will allow you to save the code, so that you wouldn't accidentally lose anything.\n",
        "\n",
        "After you are done with the lab, you should click on File -> Save a copy in GitHub, and choose the correct repository to save it into. Alternatively, if you are not using Colaboratory but instead running it locally, save the .ipynb file and upload it to GitHub manually.\n",
        "\n",
        "To submit it, copy the link to the .ipynb file in your Github repository, and submit that link to Canvas."
      ],
      "metadata": {
        "id": "Dip5Slg46RAX"
      }
    },
    {
      "cell_type": "markdown",
      "source": [
        "### Introduction\n",
        "\n",
        "Welcome to Mathematical Physics lab. Though this class you should be able to learn how to read and write some basic Python code, and specifically how to apply it to mathematical and physical problems.\n",
        "\n",
        "While Python does have some native functionality (it is able to add numbers, make lists, etc.), it is often not sufficient for any code that anyone writes. Thus, it is necessary to import some libraries - pieces of code that various people have written to enable more complex functions.\n",
        "\n",
        "Two of these libraries are going to be used quite extensively, numpy (often abbreviated as np), and matplotlib pyplot (often abbreviated as plt). We will always begin with importing them, and any other libraries that we will need."
      ],
      "metadata": {
        "id": "oE_aIsUdR8Bc"
      }
    },
    {
      "cell_type": "code",
      "source": [
        "import numpy as np\n",
        "import matplotlib.pyplot as plt"
      ],
      "metadata": {
        "id": "XkjUsH_qTj14"
      },
      "execution_count": null,
      "outputs": []
    },
    {
      "cell_type": "markdown",
      "source": [
        "Let's create a few commands that show how Python works. We'll start with a print statement - which is incredibly useful whether you just want to see an output of some calculations, or when you are trying to debug the code to understand what it is that you have done. Print statements are your friend, use them frequently."
      ],
      "metadata": {
        "id": "DVUzE5bLTx6Q"
      }
    },
    {
      "cell_type": "code",
      "source": [
        "print(\"The sum of 2+2 is\")\n",
        "print(2+2)\n",
        "hello=\"Hello World!\"\n",
        "print(\"You can even print out multiple things at once - \", 1234, hello)\n",
        "print(\"If you want to take a number to some power, you should use ** instead of ^, like this - \", 2**4)\n",
        "#print(This line will not print, it is commented out with a # in the front)"
      ],
      "metadata": {
        "id": "2c5A3O0DWk7v"
      },
      "execution_count": null,
      "outputs": []
    },
    {
      "cell_type": "code",
      "source": [],
      "metadata": {
        "id": "SELXoQUntr32"
      },
      "execution_count": null,
      "outputs": []
    },
    {
      "cell_type": "markdown",
      "source": [
        "Often in this class, you will need to create an array of numbers. You can do it in a variety of different ways. All of the three \"functions\" introduced in the next cell are a part of numpy library, so to call them you need to first reference the library (which we imported as np), followed by the name of the function.  A function in Python is similar to the mathematical definition of a function in that it (generally) has some input (which is what is inside the parenthesis of the function) and returns some output."
      ],
      "metadata": {
        "id": "rMV_w9BLXGLg"
      }
    },
    {
      "cell_type": "code",
      "source": [
        "arr1 = np.array([1,2,3,4])\n",
        "arr2 = np.arange(10)\n",
        "arr3 = np.arange(20,30)\n",
        "arr4 = np.arange(50,100,10)\n",
        "arr5 = np.linspace(0,1,10)\n",
        "print(arr1)\n",
        "print(arr2)\n",
        "print(arr3)\n",
        "print(arr4)\n",
        "print(arr5)"
      ],
      "metadata": {
        "id": "6kh-_wqoXQyb"
      },
      "execution_count": null,
      "outputs": []
    },
    {
      "cell_type": "markdown",
      "source": [
        "#### **Questions:**\n",
        "- Notice that the arange function can be called with just a single argument that is passed to the function, or with two, or with three.What is the difference between these methods?\n",
        "- What do these arguments signify?\n",
        "\n",
        "(Hint: Here and afterwards, Python is a very well documented language. If you need help understanding any function, it is very easy to find pages explaining everything in detail)"
      ],
      "metadata": {
        "id": "58VMfR8kXsCJ"
      }
    },
    {
      "cell_type": "markdown",
      "source": [
        "#### Answer:\n",
        "* When passed with one argument n, will return int iterations from 0 to n. When passed with two arguments n and m, will return int iterations from n to m. When passed with three arguments n, m, and p, will return every p int iterations from n to m.\n",
        "* These arguments signify different things based off of how many are passed. For 1, 2 inputs the arguments signify endpoints of the desired arrangement but the 3rd argument specifies the desired integer spacing between each element of the arrangement."
      ],
      "metadata": {
        "id": "w47owJ3lZQ5I"
      }
    },
    {
      "cell_type": "markdown",
      "source": [
        "Often we will need to display data in graphical form. In Python, this can be done with either plt.plot or plt.scatter functions. All of the other commands - e.g., setting up the axes labels, limits, legend - they require a separate function. You should finish a figure with plt.show() function - it tells Python that you are done with this figure, and any subsequent plotting commands will create a brand new figure."
      ],
      "metadata": {
        "id": "a-zGOA7LZf2M"
      }
    },
    {
      "cell_type": "code",
      "source": [
        "x = np.linspace(0,2*np.pi,100)\n",
        "y = np.sin(x)\n",
        "\n",
        "plt.plot(x,y,label='Sin function line')\n",
        "\n",
        "i=20\n",
        "plt.scatter(np.linspace(0,2*np.pi,i),np.sin(np.linspace(0,2*np.pi,i)),c='red',label='Sin function scatter')\n",
        "\n",
        "plt.xlabel('Angle (rad)')\n",
        "plt.ylabel('Sin function')\n",
        "\n",
        "plt.legend()\n",
        "\n",
        "plt.show()"
      ],
      "metadata": {
        "id": "mlOViNi6XrNZ"
      },
      "execution_count": null,
      "outputs": []
    },
    {
      "cell_type": "markdown",
      "source": [
        "#### Caption:\n",
        "This is a plot of sin(x) from 0 to 2pi with a scatter plot used to represent values at 20 evenly spaced angles. X axis is in radians, Y axis shows corresponding sin(x) values."
      ],
      "metadata": {
        "id": "tuafRLx3afkw"
      }
    },
    {
      "cell_type": "markdown",
      "source": [
        "Sometimes we will need to use logical operations. In Python, indentation is very important so please pay attention to it, as well as the basic syntax. The condition statement always needs to end with a colon"
      ],
      "metadata": {
        "id": "SpqLjCT9bDvY"
      }
    },
    {
      "cell_type": "code",
      "source": [
        "a=8\n",
        "\n",
        "if a<5:\n",
        "    print('A is less than 5')\n",
        "elif (a>=5) & (a<10):\n",
        "    print('A is greater or equal to 5')\n",
        "    print('A is less than 10')\n",
        "elif (a==10):\n",
        "    print('A is equal to 10 exactly')\n",
        "else:\n",
        "    print('A is greater than 10')"
      ],
      "metadata": {
        "id": "Derh76DSafAd"
      },
      "execution_count": null,
      "outputs": []
    },
    {
      "cell_type": "markdown",
      "source": [
        "If a block of code needs to be run multiple times, it is often benefitial to use a loop. There are two types of loops, for and while."
      ],
      "metadata": {
        "id": "bjzuvoQLcIGd"
      }
    },
    {
      "cell_type": "code",
      "source": [
        "for j in range(1,10):\n",
        "    print(\"j =\",j,\"and j squared is\",j**2,'using for loop')\n",
        "\n",
        "\n",
        "j=1\n",
        "while j<10:\n",
        "    print(\"j =\",j,\"and square root of j is \",np.round(np.sqrt(j),2),', using while loop')\n",
        "    j=j+1"
      ],
      "metadata": {
        "id": "em7gK_KDcAKf"
      },
      "execution_count": null,
      "outputs": []
    },
    {
      "cell_type": "markdown",
      "source": [
        "#### Questions:\n",
        "- What is the difference between for and while loops?\n",
        "- How do they each iterate through the variables?\n",
        "- How many iterations did they run through, and how it was defined?\n",
        "- Why might you use one of them in some cases, and the other in other cases?\n",
        "- Is there anything you should be careful about when running some of these loops?"
      ],
      "metadata": {
        "id": "DuCLQGvRctS1"
      }
    },
    {
      "cell_type": "markdown",
      "source": [
        "#### Answer:\n",
        "* When determining how long they will run, For loops have a predetermined length but While loops have a predetermined condition. Also, for loops are guarenteed to have at least one run but while loops may never open if the conditional is never met.\n",
        "* For loops iterate by integer within the defined range, but while loops iterate based off of how the user defines both the conditional, and the iterations.\n",
        "* They each ran through 9 iterations, defined by range(1,10) within the for loop and by the definition of j prior to while loop as well as the conditional and the iteration of j put in the body of the loop.\n",
        "* Sometimes you might have a problem where you are aware of the length of iterations/tests that must be done, in this case, a For loop is ideal. Sometimes you might have a problem where you are only aware of the condition that must be met, in this case, a While loop is ideal.\n",
        "* Must be careful with For loops because they start at 0 and in Python the range definition can be casual or automatic which can be problematic. Must be careful with While loops, ensure that your While loop body contains an iteration that moves towards the conditional so you do not get stuck in a infinite loop. Also must be careful not to redefine your conditiional within the While loop as this will also result in an infinite loop."
      ],
      "metadata": {
        "id": "OcdMFk8PdpW6"
      }
    },
    {
      "cell_type": "markdown",
      "source": [
        "### Using for loops for a purpose\n",
        "\n",
        "Create a code that would find a factorial of some arbitrary, non-negative integer $n$. Store the output in n_factorial and print the output. Remember that factorial is defined as\n",
        "\n",
        "$$n! = n \\times (n-1) \\times (n-2) \\times ... \\times 1$$\n",
        "\n",
        "Also recall that the factorial of 0 is 1, i.e. $0!=1$.\n"
      ],
      "metadata": {
        "id": "5dWFVA3kdvib"
      }
    },
    {
      "cell_type": "code",
      "source": [
        "n = 8\n",
        "n_factorial = 1\n",
        "arr = np.arange(n_factorial, n)\n",
        "\n",
        "for i in arr:\n",
        "  n_factorial = n_factorial * i\n",
        "\n",
        "print(n_factorial)"
      ],
      "metadata": {
        "id": "rG4UxJqHdnz9"
      },
      "execution_count": null,
      "outputs": []
    },
    {
      "cell_type": "markdown",
      "source": [
        "Now let's make this into a function we can use anywhere else in this notebook. Copy your code under the definiton of a function, pay attention to indentation. We are defining this function so that it would be able to take the number we want to factorialize as an argument. The return statement specifies the output of the function. Test it for different values of $n$ to help confirm that it works for all non-negative integers."
      ],
      "metadata": {
        "id": "5ATQRywBfp_W"
      }
    },
    {
      "cell_type": "code",
      "source": [
        "def factorial(n):\n",
        "    if (n <= 1):\n",
        "      return 1\n",
        "    else:\n",
        "      return n * factorial(n-1)\n",
        "\n",
        "print(factorial(3))\n",
        "print(factorial(4))\n",
        "print(factorial(5))\n",
        "print(factorial(-5)) #all numbers <=0 should return a factorial of 1."
      ],
      "metadata": {
        "id": "7KY1WPPjfjJ8"
      },
      "execution_count": null,
      "outputs": []
    },
    {
      "cell_type": "markdown",
      "source": [
        "### Taylor expansion\n",
        "\n",
        "Now, using plt.plot, let's plot a sin function. Define x-axis to range from -10 to 10.\n",
        "\n",
        "As you might remember, its Taylor expansion is $$\\sin x=\\sum_{n=0}^\\infty(-1)^n\\frac{x^{2n+1}}{(2n+1)!}$$\n",
        "\n",
        "Add a few additional lines on top of the sin plot, showing successive truncations of the Taylor expansion, writing out all of the terms by hand with\n",
        " - $\\sum_{n=0}^0$ - i.e., only the first term\n",
        " - $\\sum_{n=1}^0$ - i.e., only the first two terms\n",
        " - $\\sum_{n=2}^0$ - i.e., only the first three terms\n",
        " - $\\sum_{n=3}^0$ - i.e., only the first four terms\n",
        "\n",
        "You should use your new factorial function for this calculation.\n",
        "\n",
        "**Remember that every time you make a plot, you should include a figure caption, even if you need to create a text cell to do so yourself! All the figures should also have properly labelled axes, the axes should have reasonable limits, and if you have multiple traces, you should include a legend.**"
      ],
      "metadata": {
        "id": "dWwkjDG9quDh"
      }
    },
    {
      "cell_type": "code",
      "source": [
        "x_arr=np.arange(-10,10,0.01)\n",
        "x = x_arr\n",
        "y = np.sin(x)\n",
        "\n",
        "plt.ylim(-1.1,1.1)\n",
        "\n",
        "plt.plot(x,y,label='Sin function line')\n",
        "plt.plot(x,x,c='red', label='Sin n=0')\n",
        "plt.plot(x,x - (x**3/factorial(3)), c='green', label='Sin n=1')\n",
        "plt.plot(x,x - (x**3/factorial(3)) + (x**5/factorial(5)), c='blue', label='Sin n=2')\n",
        "plt.plot(x,x - (x**3/factorial(3)) + (x**5/factorial(5)) - (x**7/factorial(7)), c='purple', label='Sin n=3')\n",
        "\n",
        "plt.xlabel('Angle (rad)')\n",
        "plt.ylabel('Sin function')\n",
        "\n",
        "plt.legend()\n",
        "\n",
        "plt.show()"
      ],
      "metadata": {
        "id": "EJtricdm0Qgi"
      },
      "execution_count": null,
      "outputs": []
    },
    {
      "cell_type": "markdown",
      "source": [
        "Caption:\n",
        "This is a plot of sin(x) overlayed with the first four terms (n=0,1,2,3) of the taylor expansion of sin(x). X axis is in radians, Y axis shows corresponding sin(x) values."
      ],
      "metadata": {
        "id": "pGOkPiwErLwW"
      }
    },
    {
      "cell_type": "markdown",
      "source": [
        "Obviously writing it all out by hand can get frustrating really quickly as you you get more and more terms. Let's create a function that would take an array of x values as well as maximum $n$ as an argument to add up all of the terms using a for loop."
      ],
      "metadata": {
        "id": "BCCGxDoT08RZ"
      }
    },
    {
      "cell_type": "code",
      "source": [
        "def taylorSin(max_n, x):\n",
        "    fy=np.zeros(len(x)) #defines the output array the same size as x\n",
        "    for n in range(max_n):\n",
        "        #print((-1)**n,2*n+1)\n",
        "        fy=fy + (((-1)**n)*(x**(2*n+1))/factorial(2*n+1))\n",
        "    return fy\n",
        "\n",
        "#You can use this for debugging:\n",
        "plt.plot(x_arr,taylorSin(10,x_arr))\n",
        "plt.ylim(-1.1, 1.1)"
      ],
      "metadata": {
        "id": "tZoCH5Cp0TFI"
      },
      "execution_count": null,
      "outputs": []
    },
    {
      "cell_type": "markdown",
      "source": [
        "Now create a plot of sin function and of its corresponding Taylor series approximations, showing 5 different approximations from the maximum order of $x^2, x^4, x^6, x^8, x^{10}$"
      ],
      "metadata": {
        "id": "REi5lGNS29Xy"
      }
    },
    {
      "cell_type": "code",
      "execution_count": null,
      "metadata": {
        "id": "G1uHBIVhPAK4"
      },
      "outputs": [],
      "source": [
        "x_arr=np.arange(-10,10,0.01)\n",
        "x = x_arr\n",
        "y = np.sin(x)\n",
        "\n",
        "plt.plot(x,y,label='Sin function line')\n",
        "plt.plot(x,taylorSin(2, x_arr), c='red', label='x^2')\n",
        "plt.plot(x,taylorSin(4, x_arr), c='green', label='x^4')\n",
        "plt.plot(x,taylorSin(6, x_arr), c='blue', label='x^6')\n",
        "plt.plot(x,taylorSin(8, x_arr), c='purple', label='x^8')\n",
        "plt.plot(x,taylorSin(10, x_arr), c='orange', label='x^10')\n",
        "\n",
        "plt.xlabel('Angle (rad)')\n",
        "plt.ylabel('Sin function')\n",
        "plt.ylim(-1.1,1.1)\n",
        "\n",
        "plt.legend()\n",
        "\n",
        "plt.show()"
      ]
    },
    {
      "cell_type": "markdown",
      "source": [
        "Caption:\n",
        "This is a plot of sin(x) overlayed with five different Taylor series approximations (x^2, x^4, x^6, x^8, x^10). X axis is in radians, Y axis shows corresponding sin(x) values."
      ],
      "metadata": {
        "id": "nqIctNYerCga"
      }
    },
    {
      "cell_type": "markdown",
      "source": [
        "Now let's do the same thing but for $\\ln(x+1)$. Remember that\n",
        "\n",
        "$$\\ln (x+1)=\\sum_{n=1}^\\infty(-1)^{n+1}\\frac{x^{n}}{n}$$\n",
        "\n",
        "Keep in mind that this series begins at $n=1$ and not at $n=0$, so be sure to account for that in your code.\n",
        "\n",
        "After defining the function, similarly plot the ln function itself, as well as the series up to $x^2, x^4, x^6, x^8, x^{10}$.\n",
        "\n",
        "Use plt.xlim(min_value,max_value) to limit the x axis range of the plot to be from -2 to 2. Use plt.ylim(min_value,max_value) to similarly limit the y axis range to sensible values."
      ],
      "metadata": {
        "id": "KHbPiaPb3Ook"
      }
    },
    {
      "cell_type": "code",
      "execution_count": null,
      "metadata": {
        "id": "UEEgHbMyPAK4"
      },
      "outputs": [],
      "source": [
        "def taylorLn(max_n, x):\n",
        "    fy = np.zeros(len(x))\n",
        "    for n in range(1, max_n):\n",
        "        fy = fy + (-1)**(n+1)*((x**n)/n)\n",
        "    return fy\n",
        "\n",
        "x = x_arr\n",
        "y = np.log(x+1)\n",
        "\n",
        "plt.plot(x,y,label = 'TaylorLn function line')\n",
        "plt.plot(x,taylorLn(2, x_arr), c='red', label='x^2')\n",
        "plt.plot(x,taylorLn(4, x_arr), c='green', label='x^4')\n",
        "plt.plot(x,taylorLn(6, x_arr), c='blue', label='x^6')\n",
        "plt.plot(x,taylorLn(8, x_arr), c='purple', label='x^8')\n",
        "plt.plot(x,taylorLn(10, x_arr), c='orange', label='x^10')\n",
        "\n",
        "plt.xlabel('Angle (rad)')\n",
        "plt.ylabel('Ln function')\n",
        "plt.xlim(-2,2)\n",
        "plt.ylim(-3,3)\n",
        "\n",
        "plt.legend()\n",
        "\n",
        "plt.show()"
      ]
    },
    {
      "cell_type": "markdown",
      "source": [
        "Caption:\n",
        "This is a plot of ln(x+1) overlayed with five different Taylor series approximations (x^2, x^4, x^6, x^8, x^10). X axis is in radians, Y axis shows corresponding sin(x) values."
      ],
      "metadata": {
        "id": "IZW56Ip4vhEh"
      }
    },
    {
      "cell_type": "markdown",
      "metadata": {
        "id": "jVsUeisEPAK6"
      },
      "source": [
        "#### Questions:\n",
        "- For these two functions, how do the additional terms change the agreement between the Taylor expansion and the base function for small $|x|$?\n",
        "- How does it change for large $|x|$?\n",
        "- In this, what are the differences for these two functions in each of these two regimes?\n",
        "- Why?"
      ]
    },
    {
      "cell_type": "markdown",
      "metadata": {
        "id": "QgpeN4VFPAK6"
      },
      "source": [
        "#### Answer:\n",
        "* For both ln and sin, each increasing term makes it closer to the actual function at small |x|.\n",
        "* Within ln function, each increasing term increases in deviation with the actual function as |x| gets larger, with noticeable differences in larger |x|. However, for sin function, it continues to converge at higher values.\n",
        "* In terms of |x|, ln function diverges at higher values. For sin function, it is always converging no matter the size of |x|.\n",
        "* This is because ln has a radius of convergence -1 < R < 1 so it begins to diverge once beyond this radius. Sin, however, is just fully converging for all values."
      ]
    },
    {
      "cell_type": "markdown",
      "source": [
        "### Now go back to the top, and rememer to complete the abstract for the lab. After you are done with the lab, submit it and create a release for it.\n"
      ],
      "metadata": {
        "id": "0I11EH4b47Yq"
      }
    },
    {
      "cell_type": "markdown",
      "metadata": {
        "id": "xQP6L9_1PAK6"
      },
      "source": [
        "## Extra Credit\n",
        "Find the range of values of x (with precision to within 0.1) where the Taylor expansion with the maximum order of 4 matches the sin(x) function to within 0.01. You can use a combination of if/for/while statements, or if you feel particularly adventurous, look up np.where function."
      ]
    },
    {
      "cell_type": "code",
      "execution_count": null,
      "metadata": {
        "id": "q5rYYCy1PAK6"
      },
      "outputs": [],
      "source": [
        "max = 4\n",
        "margin = 0.01\n",
        "\n",
        "taylor  = taylorSin(max, x_arr)\n",
        "sin = np.sin(x_arr)\n",
        "results = np.where(np.abs(taylor - sin) <= margin)\n",
        "print(x_arr[results])"
      ]
    }
  ],
  "metadata": {
    "kernelspec": {
      "display_name": "Python 3",
      "name": "python3"
    },
    "language_info": {
      "codemirror_mode": {
        "name": "ipython",
        "version": 3
      },
      "file_extension": ".py",
      "mimetype": "text/x-python",
      "name": "python",
      "nbconvert_exporter": "python",
      "pygments_lexer": "ipython3",
      "version": "3.9.7"
    },
    "colab": {
      "provenance": [],
      "generative_ai_disabled": true,
      "include_colab_link": true
    }
  },
  "nbformat": 4,
  "nbformat_minor": 0
}