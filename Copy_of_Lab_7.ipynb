{
  "cells": [
    {
      "cell_type": "markdown",
      "metadata": {
        "id": "view-in-github",
        "colab_type": "text"
      },
      "source": [
        "<a href=\"https://colab.research.google.com/github/DavidSchineis/Math-Physics/blob/main/Copy_of_Lab_7.ipynb\" target=\"_parent\"><img src=\"https://colab.research.google.com/assets/colab-badge.svg\" alt=\"Open In Colab\"/></a>"
      ]
    },
    {
      "cell_type": "markdown",
      "source": [
        "#Abstract\n",
        "This lab explores linear algebra in Python. We began by reviewing how Lists and NumPy arrays differ, focusing on how arrays allow algebraic operations. We then built and analyzed 2D and 3D arrays, studying their shapes, lengths, and slicing behavior. Moving into matrix algebra, we manually computed and verified matrix products, sums, and powers. Finally, we used matrix inversion to solve a system of linear equations, verifying our result by hand. This lab ties together array creation, matrix operations, and linear algebra using NumPy."
      ],
      "metadata": {
        "id": "7WGRk5TeVRpB"
      },
      "id": "7WGRk5TeVRpB"
    },
    {
      "cell_type": "code",
      "execution_count": null,
      "id": "39ab59ea",
      "metadata": {
        "id": "39ab59ea"
      },
      "outputs": [],
      "source": [
        "import numpy as np"
      ]
    },
    {
      "cell_type": "markdown",
      "id": "e402d6ef",
      "metadata": {
        "id": "e402d6ef"
      },
      "source": [
        "Previously, we have created sets of numbers using several ways."
      ]
    },
    {
      "cell_type": "code",
      "execution_count": null,
      "id": "aea38643",
      "metadata": {
        "id": "aea38643"
      },
      "outputs": [],
      "source": [
        "arr1=np.arange(0,10,2)\n",
        "arr2=np.linspace(0,10,5)\n",
        "arr3=np.zeros(10)\n",
        "arr4=[0,3,6,3,7,8]\n",
        "arr5=np.array([0,3,6,3,7,8])\n",
        "\n",
        "print('arr1',arr1,'type',type(arr1))\n",
        "print('arr2',arr2,'type',type(arr2))\n",
        "print('arr3',arr3,'type',type(arr3))\n",
        "print('arr4',arr4,'type',type(arr4))\n",
        "print('arr5',arr5,'type',type(arr5))"
      ]
    },
    {
      "cell_type": "markdown",
      "id": "feb97a54",
      "metadata": {
        "id": "feb97a54"
      },
      "source": [
        "One of these is not like the other. Numpy.ndarray is a array on which we can do mathematical operations, where all the numbers have the same type. Lists, however, are different. You can modify it through adding or removing elements, but you would not be able to apply the same operations on it as you would with arrays"
      ]
    },
    {
      "cell_type": "code",
      "execution_count": null,
      "id": "213ba64b",
      "metadata": {
        "id": "213ba64b"
      },
      "outputs": [],
      "source": [
        "lst=[0,2]\n",
        "print('original',lst)\n",
        "lst.append('cat')\n",
        "print('after appending',lst)\n",
        "lst.append([5,'apple',7])\n",
        "print('after appending a list',lst)\n",
        "lst.extend([5,'apple',7])\n",
        "print('after extending',lst)\n",
        "lst.remove(5)\n",
        "print('after removing element 5',lst)\n",
        "lst.pop(3)\n",
        "print('after popping element at index 3',lst)\n",
        "lst=lst*3\n",
        "print('\"multiplying\" a list by a number',lst)\n",
        "lst=lst+[9]\n",
        "print('\"adding\" a list to a list',lst)"
      ]
    },
    {
      "cell_type": "markdown",
      "id": "c182e4e0",
      "metadata": {
        "id": "c182e4e0"
      },
      "source": [
        "#### Questions\n",
        "- What is the difference between appending and extending?\n",
        "- What did the \"multiplication\" and \"addition\" operation on the list do?"
      ]
    },
    {
      "cell_type": "markdown",
      "source": [
        "#### Answer\n",
        "- Appending adds one element (data type does not matter) onto the the end of the list. Extending will break down the List you are attempting to extend by into its elements which are then appended.\n",
        "- The multiplciation operation on a List will extend the List by itself however many times it is multiplied. The addition operation on a List will extend the List by whatever you are adding to it."
      ],
      "metadata": {
        "id": "5DLc8ZcQObH4"
      },
      "id": "5DLc8ZcQObH4"
    },
    {
      "cell_type": "markdown",
      "id": "f74f3696",
      "metadata": {
        "id": "f74f3696"
      },
      "source": [
        "----\n",
        "Coincidentally, you cannot perform division or subtraction on a list, nor can you multiply a list by another list, or add most things other than lists. It is possible to do, however, on arrays"
      ]
    },
    {
      "cell_type": "code",
      "execution_count": null,
      "id": "6b3888ef",
      "metadata": {
        "id": "6b3888ef"
      },
      "outputs": [],
      "source": [
        "arr=np.array([0,2,6])\n",
        "print('original',arr)\n",
        "arr=arr*3\n",
        "print('multiplication by number',arr)\n",
        "arr=arr/2.\n",
        "print('division by number',arr)\n",
        "arr=arr+8\n",
        "print('adding a number',arr)\n",
        "arr=arr-6\n",
        "print('subtracting a number',arr)\n",
        "arr=2**arr\n",
        "print('raising a number to the power of arr',arr)\n",
        "arr=arr**(1/3.)\n",
        "print('taking cube root',arr)"
      ]
    },
    {
      "cell_type": "markdown",
      "id": "a5f2dee4",
      "metadata": {
        "id": "a5f2dee4"
      },
      "source": [
        "And, of course, you can perform a number of other operations, such as trigonometric functions, integrating, etc.\n",
        "\n",
        "In addition to performing algebra between an array and a number, it is possible to do the same with two arrays.\n",
        "\n",
        "#### Create two random arrays, and perform 4 algebraic operations between them. Experiment with different arrays, trying arrays of different lengths."
      ]
    },
    {
      "cell_type": "code",
      "execution_count": null,
      "id": "633c218d",
      "metadata": {
        "id": "633c218d"
      },
      "outputs": [],
      "source": [
        "a = np.array([4,5,6])\n",
        "b = np.array([1,2,3])\n",
        "\n",
        "print(\"Addition\", a+b)\n",
        "print(\"Subtraction\", a-b)\n",
        "print(\"Multiplication\", a*b)\n",
        "print(\"Division\", a/b)"
      ]
    },
    {
      "cell_type": "markdown",
      "id": "ef51db45",
      "metadata": {
        "id": "ef51db45"
      },
      "source": [
        "#### Question:\n",
        "- What has to be true about the lengths of these two arrays with respect to each other?\n",
        "- How do the different operations affect individual elements of each array?"
      ]
    },
    {
      "cell_type": "markdown",
      "source": [
        "#### Answer\n",
        "- If you wish to perform algebraic operations on two arrays they must have the same length otherwise it throws an error.\n",
        "- All of the algebraic operations happen between the a[i]th element and the b[i]th element so that every operation is done with its corresponding element in the other array."
      ],
      "metadata": {
        "id": "U5k9CKeePCij"
      },
      "id": "U5k9CKeePCij"
    },
    {
      "cell_type": "markdown",
      "id": "5e74f86e",
      "metadata": {
        "id": "5e74f86e"
      },
      "source": [
        "----\n",
        "For the most part, we have so far worked with 1d arrays, occasionally transforming them into 2d or 3d using meshgrid. There are a number of other ways of creating and modifying them"
      ]
    },
    {
      "cell_type": "code",
      "execution_count": null,
      "id": "f5212508",
      "metadata": {
        "id": "f5212508"
      },
      "outputs": [],
      "source": [
        "arr=np.array([[0,3,6],[9,2,6],[9,3,8],[0,1,4]])\n",
        "print('creating 2d array')\n",
        "print(arr)\n",
        "print('length',len(arr),', shape',arr.shape,', dimensions',arr.ndim)\n",
        "\n",
        "arr=np.array([[[0,3,6],[9,3,8],[0,1,4]],[[0,3,6],[9,3,8],[0,1,4]]])\n",
        "print('\\ncreating 3d array')\n",
        "print(arr)\n",
        "print('length',len(arr),', shape',arr.shape,', dimensions',arr.ndim)\n",
        "\n",
        "arr=np.zeros((1,4,7))\n",
        "print('\\ncreating array through defining shape')\n",
        "print(arr)\n",
        "print('length',len(arr),', shape',arr.shape,', dimensions',arr.ndim)\n",
        "\n",
        "arr=np.arange(18).reshape((3,6))\n",
        "print('\\ncreating array through reshaping')\n",
        "print(arr)\n",
        "print('length',len(arr),', shape',arr.shape,', dimensions',arr.ndim)"
      ]
    },
    {
      "cell_type": "markdown",
      "id": "41ff1768",
      "metadata": {
        "id": "41ff1768"
      },
      "source": [
        "- It is possible to select a portion of the array through slicing out different elements by using the index of their row and column, starting from index 0 in both of them.\n",
        "- Range of consequitive indexes can be supplied through start:end (including start, not including end).\n",
        "- We can also use negative indexes - they work the same way, only counting from the end of the array rather than from the start.\n",
        "- If starting index is not provided (e.g., [:end]), start is assumed to be 0\n",
        "- If ending index is not provided (e.g., [start:]), end is assumed to be 0 (up to and including the final element of the array).\n",
        "- Just a column ([:]) indicates using all of the elements.\n",
        "- Alternatively, a list of indexes could be passed along in the brackets."
      ]
    },
    {
      "cell_type": "code",
      "execution_count": null,
      "id": "c4b0e781",
      "metadata": {
        "id": "c4b0e781"
      },
      "outputs": [],
      "source": [
        "arr=np.arange(0,35).reshape(7,5).T\n",
        "\n",
        "\n",
        "print('original array')\n",
        "print(arr)\n",
        "\n",
        "print('\\nslicing out the first row')\n",
        "print(arr[0])\n",
        "\n",
        "print('\\nslicing out the first column')\n",
        "print(arr[:,0])\n",
        "\n",
        "print('\\nslicing out the last column')\n",
        "print(arr[:,-1])\n",
        "\n",
        "print('\\nslicing out the first two columns')\n",
        "print(arr[:,:2])\n",
        "\n",
        "print('\\nslicing out the last two rows')\n",
        "print(arr[-2:])\n",
        "\n",
        "print('\\nselecting non-consequitive columns')\n",
        "print(arr[:,[1,3,5]])\n",
        "\n",
        "print('\\nslicing out both rows and columns')\n",
        "print(arr[2:4,1:3])\n",
        "\n",
        "print('\\nselecting an individual element of an array')\n",
        "print(arr[0,1])"
      ]
    },
    {
      "cell_type": "markdown",
      "source": [
        "Experiment with the slicing. Create a 2-d array, and try to select different rows and columns, as well as individual elements out of the array, until you develop intuition for indexing."
      ],
      "metadata": {
        "id": "qH5-TSU9P0x8"
      },
      "id": "qH5-TSU9P0x8"
    },
    {
      "cell_type": "code",
      "source": [
        "a = np.arange(0,35).reshape(7,5).T\n",
        "print(a)\n",
        "\n",
        "print(a[:,2])\n",
        "print(a[2:3])\n",
        "print(a[:,-1])\n",
        "print(a[-1:])"
      ],
      "metadata": {
        "id": "q_8IIjeYTKAj"
      },
      "id": "q_8IIjeYTKAj",
      "execution_count": null,
      "outputs": []
    },
    {
      "cell_type": "markdown",
      "id": "83dd1bbd",
      "metadata": {
        "id": "83dd1bbd"
      },
      "source": [
        "#### Repeat the excersise of performing algebraic operations between two multi-dimensional arrays."
      ]
    },
    {
      "cell_type": "code",
      "execution_count": null,
      "id": "bad612a8",
      "metadata": {
        "id": "bad612a8"
      },
      "outputs": [],
      "source": [
        "a = np.arange(0,20).reshape(4,5)\n",
        "b = np.arange(10,30).reshape(4,5)\n",
        "\n",
        "print(\"Addition\", a+b)\n",
        "print(\"Subtraction\", a-b)\n",
        "print(\"Multiplication\", a*b)\n",
        "print(\"Division\", a/b)\n",
        "print(len(a))"
      ]
    },
    {
      "cell_type": "markdown",
      "id": "6d872473",
      "metadata": {
        "id": "6d872473"
      },
      "source": [
        "#### Question\n",
        "- What does the length of a multidimensional array refer to?\n",
        "- Is the length the only thing you need to consider?"
      ]
    },
    {
      "cell_type": "markdown",
      "source": [
        "#### Answer\n",
        "- Length of a multidimensional array refers to the length of the outermost dimension.\n",
        "- Length is the not the only thing you need to consider before attempting algebraic operations on two arrays. They need to have matching shapes and the length command is not enough to reveal this."
      ],
      "metadata": {
        "id": "Vw-RHZf5TQO2"
      },
      "id": "Vw-RHZf5TQO2"
    },
    {
      "cell_type": "markdown",
      "id": "cd2438ed",
      "metadata": {
        "id": "cd2438ed"
      },
      "source": [
        "----\n",
        "#### How does array multiplication work? Write out explicitly the operation that has been performed on each element, using slices of the two arrays"
      ]
    },
    {
      "cell_type": "code",
      "execution_count": null,
      "id": "f916bec3",
      "metadata": {
        "id": "f916bec3"
      },
      "outputs": [],
      "source": [
        "a=np.array([[2,5],[3,6]])\n",
        "b=np.array([[4,1],[9,7]])\n",
        "c=np.zeros((2,2))\n",
        "\n",
        "c[0,0]= 2*4\n",
        "c[0,1]= 5*1\n",
        "c[1,0]= 3*9\n",
        "c[1,1]= 6*7\n",
        "\n",
        "print(c)\n",
        "\n",
        "print(a*b)"
      ]
    },
    {
      "cell_type": "markdown",
      "id": "1da9ce05",
      "metadata": {
        "id": "1da9ce05"
      },
      "source": [
        "You will note that the array multiplication is not the same thing as the matrix multiplication. Treating these arrays as matrices, write out explicitly the operations that should be performed on each element in matrix multiplication, using slices of these two arrays"
      ]
    },
    {
      "cell_type": "code",
      "execution_count": null,
      "id": "0e5ff549",
      "metadata": {
        "id": "0e5ff549"
      },
      "outputs": [],
      "source": [
        "a=np.array([[2,5],\n",
        "            [3,6]])\n",
        "b=np.array([[4,1],\n",
        "            [9,7]])\n",
        "c=np.zeros((2,2))\n",
        "\n",
        "c[0,0]= 2*4+5*9\n",
        "c[0,1]= 2*1+5*7\n",
        "c[1,0]= 3*4+6*9\n",
        "c[1,1]= 3*1+6*7\n",
        "\n",
        "print(c)"
      ]
    },
    {
      "cell_type": "markdown",
      "id": "c42b0626",
      "metadata": {
        "id": "c42b0626"
      },
      "source": [
        "We will perform a similar excersise for a larger matrix, though, it becomes more cumbersome to repeat the same operations so many times. Instead, use nested for loops in order to populate each element of the matrix"
      ]
    },
    {
      "cell_type": "code",
      "source": [
        "mat1=np.arange(12).reshape((4,3))\n",
        "mat2=np.flip(np.arange(12)).reshape(3,4)\n",
        "\n",
        "print(mat1)\n",
        "print(mat2)"
      ],
      "metadata": {
        "id": "26IcGcXoUKMo"
      },
      "id": "26IcGcXoUKMo",
      "execution_count": null,
      "outputs": []
    },
    {
      "cell_type": "markdown",
      "source": [
        "Perform matrix multiplication of mat1 and mat2 on paper first to determine first what your answer should be. Next write an expression in the for loop that would automate the calculation"
      ],
      "metadata": {
        "id": "0em8aWmEUJXy"
      },
      "id": "0em8aWmEUJXy"
    },
    {
      "cell_type": "code",
      "execution_count": null,
      "id": "55b91a82",
      "metadata": {
        "id": "55b91a82"
      },
      "outputs": [],
      "source": [
        "#what do these lines of code do?\n",
        "dim1=np.shape(mat1)\n",
        "dim2=np.shape(mat2)\n",
        "\n",
        "\n",
        "matProd=np.zeros((dim1[0],dim2[1]))\n",
        "\n",
        "\n",
        "#put in your own calculations of matrix multiplication here\n",
        "for i in range(dim1[0]):\n",
        "  for j in range(dim2[1]):\n",
        "    for k in range(dim1[1]):\n",
        "        matProd[i, j] += mat1[i, k] * mat2[k, j]\n",
        "\n",
        "\n",
        "print(matProd)\n"
      ]
    },
    {
      "cell_type": "markdown",
      "id": "891243bc",
      "metadata": {
        "id": "891243bc"
      },
      "source": [
        "There are two built in functions to do matrix multiplications. We can use a dot product."
      ]
    },
    {
      "cell_type": "code",
      "execution_count": null,
      "id": "ee542387",
      "metadata": {
        "id": "ee542387"
      },
      "outputs": [],
      "source": [
        "print(np.dot(mat1,mat2))"
      ]
    },
    {
      "cell_type": "markdown",
      "id": "3475d875",
      "metadata": {
        "id": "3475d875"
      },
      "source": [
        "We can also explicitly define them to be matrices instead of the arrays"
      ]
    },
    {
      "cell_type": "code",
      "execution_count": null,
      "id": "1338996c",
      "metadata": {
        "id": "1338996c"
      },
      "outputs": [],
      "source": [
        "matrix1=np.matrix(mat1)\n",
        "matrix2=np.matrix(mat2)\n",
        "\n",
        "print(matrix1*matrix2)"
      ]
    },
    {
      "cell_type": "markdown",
      "id": "7b0aaf67",
      "metadata": {
        "id": "7b0aaf67"
      },
      "source": [
        "Using the matrices given below, compute the following quantities $AB,BA,A+B,A-B,A^2, B^2,$.  Perform all of the following calculations both by hand and using Python to check your hand calculations."
      ]
    },
    {
      "cell_type": "code",
      "execution_count": null,
      "id": "3f5579a5",
      "metadata": {
        "id": "3f5579a5"
      },
      "outputs": [],
      "source": [
        "A=np.matrix([[3,1],[2,5]]);\n",
        "B=np.matrix([[-2,2],[1,4]]);\n",
        "print(\"A=\\n\",A,\"\\n\\nB=\\n\",B)\n",
        "print(\"AB\\n\", A*B)\n",
        "print(\"BA\\n\", B*A)\n",
        "print(\"A+B\\n\", A+B)\n",
        "print(\"A-B\\n\", A-B)\n",
        "print(\"A^2\\n\", A*A)\n",
        "print(\"B^2\\n\", B*B)"
      ]
    },
    {
      "cell_type": "markdown",
      "id": "21fdb7df",
      "metadata": {
        "id": "21fdb7df"
      },
      "source": [
        "Using the same matrices, compute the following quantities $(A+B)(A-B),(A-B)(B-A), A^2-B^2$ and notice that all three of the matrices are different, although they are all equivalent expressions when working with regular (scalar) algebra.  Remember that you should be doing the calculations by hand first, and then using Python to check the results."
      ]
    },
    {
      "cell_type": "code",
      "source": [
        "print(\"(A+B)(A-B)\\n\", (A+B)*(A-B))\n",
        "print(\"(A-B)(A-B)\\n\", (A-B)*(B-A))\n",
        "print(\"A^2 - B^2\\n\", (A*A)-(B*B))"
      ],
      "metadata": {
        "id": "GTYS8Be9UsUQ"
      },
      "id": "GTYS8Be9UsUQ",
      "execution_count": null,
      "outputs": []
    },
    {
      "cell_type": "markdown",
      "id": "7d5b32dd",
      "metadata": {
        "id": "7d5b32dd"
      },
      "source": [
        "## Extra credit\n",
        "\n",
        "You will learn about these operations in greater detail in the next class, but one of the methods by which you can solve a system of linear equations using matrices is through taking an inverse of the matrix, and multiplying it by the matrix consisting of the numbers after the equals sign. In other words, if $A$ is an arbitrary matrix, and $B$ = is the result let's say\n",
        "\n",
        "$$A=\\begin{bmatrix} a_1 & a_2 & a_3 \\\\ b_1 & b_2 & b_3 \\\\ c_1 & c_2 & c_3 \\end{bmatrix},\\rm{~and~}  B=\\begin{bmatrix} e_1 \\\\e_2\\\\e_3\\end{bmatrix},\\rm{~with~}A\\begin{bmatrix} x \\\\y\\\\z\\end{bmatrix}=B$$\n",
        "\n",
        "Then $$\\begin{bmatrix} x \\\\y\\\\z\\end{bmatrix}=A^{-1}B$$\n",
        "\n",
        "In Python, np.linalg.inv() is a function that finds the inverse of a matrix.\n",
        "\n",
        "Using this, solve the system of equations that you have earlier discussed in class, namely\n",
        "\n",
        "$$x-2y=4$$\n",
        "$$5x+z=7$$\n",
        "$$x+2y-z=3$$"
      ]
    },
    {
      "cell_type": "code",
      "execution_count": null,
      "id": "640ccde0",
      "metadata": {
        "id": "640ccde0"
      },
      "outputs": [],
      "source": [
        "A = np.matrix([[1,-2,0],[5,0,1],[1,2,-1]])\n",
        "B = np.matrix([4,7,3]).T\n",
        "\n",
        "print(A)\n",
        "print(B)\n",
        "\n",
        "Ainv = np.linalg.inv(A)\n",
        "\n",
        "C = Ainv * B\n",
        "\n",
        "print(C)"
      ]
    }
  ],
  "metadata": {
    "kernelspec": {
      "display_name": "Python 3",
      "name": "python3"
    },
    "language_info": {
      "codemirror_mode": {
        "name": "ipython",
        "version": 3
      },
      "file_extension": ".py",
      "mimetype": "text/x-python",
      "name": "python",
      "nbconvert_exporter": "python",
      "pygments_lexer": "ipython3",
      "version": "3.9.7"
    },
    "colab": {
      "provenance": [],
      "generative_ai_disabled": true,
      "include_colab_link": true
    }
  },
  "nbformat": 4,
  "nbformat_minor": 5
}