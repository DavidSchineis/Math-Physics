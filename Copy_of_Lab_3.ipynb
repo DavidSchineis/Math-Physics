{
  "cells": [
    {
      "cell_type": "markdown",
      "metadata": {
        "id": "view-in-github",
        "colab_type": "text"
      },
      "source": [
        "<a href=\"https://colab.research.google.com/github/DavidSchineis/Math-Physics/blob/main/Copy_of_Lab_3.ipynb\" target=\"_parent\"><img src=\"https://colab.research.google.com/assets/colab-badge.svg\" alt=\"Open In Colab\"/></a>"
      ]
    },
    {
      "cell_type": "markdown",
      "source": [
        "# Lab 3 Abstract:\n",
        "This lab explores the construction and visualization of 3D surfaces in Python using the Plotly library. We began by reviewing line plots in three dimensions, generating polygons and circles in different coordinate planes. We then introduced how to convert 1D vectors to 2D surface plots using mesh grids. We created spheres and cylinders by converting their respective coordinate systems to cartesian. We also did more complex parametrizations, like the seashell surface. Finally, we extended into animations by adding sliders to smoothly show shapes changing over time, first expanding a sphere in radius and then converting a sphere to an open cylinder. This lab highlights how Plotly, mesh grids, and slider tools in Python can be combined to explore geometry and visualize transformations in three dimensions.\n"
      ],
      "metadata": {
        "id": "YXFZ8LRv7CjR"
      }
    },
    {
      "cell_type": "markdown",
      "source": [
        "---"
      ],
      "metadata": {
        "id": "r9HxwYBq7Mnv"
      }
    },
    {
      "cell_type": "code",
      "execution_count": null,
      "metadata": {
        "id": "mN5XBNZL32GK"
      },
      "outputs": [],
      "source": [
        "import numpy as np\n",
        "import matplotlib.pyplot as plt\n",
        "import plotly.graph_objects as go\n",
        "from numpy import sin, cos, pi"
      ]
    },
    {
      "cell_type": "markdown",
      "metadata": {
        "id": "UAwV0C5K32GN"
      },
      "source": [
        "# Line plots"
      ]
    },
    {
      "cell_type": "markdown",
      "metadata": {
        "id": "vOw5XE4y32GP"
      },
      "source": [
        "Today we will practice making 3d plots. Last time we had an example of making a 3d line plot using plot.ly library. Let's review.\n",
        "\n",
        "We will begin with creating a dataset."
      ]
    },
    {
      "cell_type": "code",
      "execution_count": null,
      "metadata": {
        "id": "VsZgcO5K32GQ"
      },
      "outputs": [],
      "source": [
        "fig = go.Figure()\n",
        "\n",
        "t = np.linspace(0, 2*pi, 4)\n",
        "x, y, z = sin(t),cos(t),t*0\n",
        "fig.add_trace(go.Scatter3d(x=x, y=y, z=z,name='Triangle',\n",
        "                                   mode='lines+markers'))\n",
        "\n",
        "fig.show()"
      ]
    },
    {
      "cell_type": "markdown",
      "metadata": {
        "id": "g4JrUduP32GR"
      },
      "source": [
        "Why did this function create a triangle? These additional traces might help you to understand why the different shapes are appearing. Copy the above plotting code and add two more traces, a hexagon  and a circle (both still in the x-y plane centered at the origin). For the hexagon, change the mode to \"markers\", and for the circle to \"lines\".  Make sure to explain how/why this graph produces these shapes in the caption below."
      ]
    },
    {
      "cell_type": "code",
      "execution_count": null,
      "metadata": {
        "id": "VTYFYJMh32GR"
      },
      "outputs": [],
      "source": [
        "fig = go.Figure()\n",
        "\n",
        "t = np.linspace(0, 2*pi, 7)\n",
        "x, y, z = sin(t),cos(t),t*0\n",
        "fig.add_trace(go.Scatter3d(x=x, y=y, z=z,name='Hexagon',\n",
        "                                   mode='markers'))\n",
        "\n",
        "t = np.linspace(0, 2*pi, 100)\n",
        "x, y, z = sin(t),cos(t),t*0\n",
        "fig.add_trace(go.Scatter3d(x=x, y=y, z=z,name='Circle',\n",
        "                                   mode='lines'))\n",
        "\n",
        "fig.show()"
      ]
    },
    {
      "cell_type": "markdown",
      "source": [
        "### Caption\n",
        "This is a 3D plot of a Hexagon represented by markers and a Circle represented by lines. Both shapes exist within the xy plane and are constructed by using np.linspace to create arrays from 0 to 2pi with varying n of elements and consequently, varying points displayed on the graph."
      ],
      "metadata": {
        "id": "arjCxdCOgKir"
      }
    },
    {
      "cell_type": "markdown",
      "source": [
        "For some extra practice, create a three-dimensional plot showing the original triangle, a hexagon on the x-z plane, and a circle in y-z plane. For the hexagon again use \"markers\" and for the circle \"lines\"."
      ],
      "metadata": {
        "id": "ri9rDjar4Ind"
      }
    },
    {
      "cell_type": "code",
      "source": [
        "fig = go.Figure()\n",
        "\n",
        "t = np.linspace(0, 2*pi, 4)\n",
        "x, y, z = sin(t),cos(t),t*0\n",
        "fig.add_trace(go.Scatter3d(x=x, y=y, z=z,name='Triangle',\n",
        "                                   mode='lines+markers'))\n",
        "\n",
        "t = np.linspace(0, 2*pi, 7)\n",
        "x, y, z = sin(t),t*0,cos(t)\n",
        "fig.add_trace(go.Scatter3d(x=x, y=y, z=z,name='Hexagon',\n",
        "                                   mode='markers'))\n",
        "\n",
        "t = np.linspace(0, 2*pi)\n",
        "x, y, z = t*0,sin(t),cos(t)\n",
        "fig.add_trace(go.Scatter3d(x=x, y=y, z=z,name='Circle',\n",
        "                                   mode='lines'))\n",
        "\n",
        "fig.show()"
      ],
      "metadata": {
        "id": "8oP6A-uu6YXu"
      },
      "execution_count": null,
      "outputs": []
    },
    {
      "cell_type": "markdown",
      "source": [
        "### Caption\n",
        "This is a 3D plot showing three different shapes in different planes. The triangle lies in the xy plane and is drawn with lines and markers. The hexagon lies in the xz plane and is shown with markers only. The circle lies in the yz plane and is drawn with lines only."
      ],
      "metadata": {
        "id": "ihE3i8gmheg6"
      }
    },
    {
      "cell_type": "markdown",
      "metadata": {
        "id": "6viwThX932GS"
      },
      "source": [
        "# Mesh"
      ]
    },
    {
      "cell_type": "markdown",
      "metadata": {
        "id": "sGoEq5dl32GT"
      },
      "source": [
        "In addition to the line and scatter plots, it is possible to make a surface plots. To do this, we need to first create a mesh grid. Let's create two arrays, $\\theta$ and $\\phi$, ranging from 0 to $\\pi$ (the polar angle) and from 0 to $2\\pi$ (the azimuthal angle), respectively. Afterwards, print them out."
      ]
    },
    {
      "cell_type": "code",
      "execution_count": null,
      "metadata": {
        "id": "HGzWw2Bq32GT"
      },
      "outputs": [],
      "source": [
        "theta = np.linspace(0, pi)\n",
        "phi = np.linspace(0,2*pi)"
      ]
    },
    {
      "cell_type": "markdown",
      "metadata": {
        "id": "Pl-Nvlqu32GU"
      },
      "source": [
        "Let's make a surface out of these two arrays"
      ]
    },
    {
      "cell_type": "code",
      "execution_count": null,
      "metadata": {
        "id": "OyUT-W3I32GU"
      },
      "outputs": [],
      "source": [
        "thetaGrid, phiGrid = np.meshgrid(theta,phi)\n",
        "\n",
        "print('thetaGrid')\n",
        "print(thetaGrid)\n",
        "print('phiGrid')\n",
        "print(phiGrid)\n",
        "print('Their shapes are', thetaGrid.shape, phiGrid.shape)"
      ]
    },
    {
      "cell_type": "markdown",
      "metadata": {
        "id": "aHQTF2cI32GU"
      },
      "source": [
        "#### Question\n",
        "- What did meshgrid do?\n",
        "- How did it format these two arrays?"
      ]
    },
    {
      "cell_type": "markdown",
      "metadata": {
        "id": "SOqQf_qn32GV"
      },
      "source": [
        "#### Answer\n",
        "\n",
        "- It created two grid/planes out of two vectors where one dimension is just duplicates of the vector.\n",
        "- It formatted these two arrays into Tuples of coordinate grids."
      ]
    },
    {
      "cell_type": "markdown",
      "metadata": {
        "id": "iCb5aNTA32GV"
      },
      "source": [
        "To plot a surface we need to pass these 2-d arrays to Surface function."
      ]
    },
    {
      "cell_type": "code",
      "execution_count": null,
      "metadata": {
        "id": "Y8ip_3_I32GV"
      },
      "outputs": [],
      "source": [
        "fig = go.Figure()\n",
        "fig.add_trace(go.Surface(x=thetaGrid, y=phiGrid, z=np.zeros(thetaGrid.shape)))\n",
        "fig.show()"
      ]
    },
    {
      "cell_type": "markdown",
      "metadata": {
        "id": "o9myvaTG32GW"
      },
      "source": [
        "# Spherical geometry"
      ]
    },
    {
      "cell_type": "markdown",
      "metadata": {
        "id": "rvV9hWal32GW"
      },
      "source": [
        "We can modify x, y, z, as we want. Using these arrays, create a spherical surface with radius=1. Remember that in 3d plots, we have to (unfortunately) stick with the Cartesian grid."
      ]
    },
    {
      "cell_type": "code",
      "execution_count": null,
      "metadata": {
        "id": "QqF7fWAF32GW"
      },
      "outputs": [],
      "source": [
        "fig = go.Figure()\n",
        "\n",
        "x = sin(phiGrid) * cos(thetaGrid)\n",
        "y = sin(phiGrid) * sin(thetaGrid)\n",
        "z = cos(phiGrid)\n",
        "\n",
        "fig.add_trace(go.Surface(x=x, y=y, z=z))\n",
        "fig.show()"
      ]
    },
    {
      "cell_type": "markdown",
      "source": [
        "### Caption\n",
        "This is a 3D surface plot of a unit sphere constructed from spherical coordinates."
      ],
      "metadata": {
        "id": "riwur6ssnxlR"
      }
    },
    {
      "cell_type": "markdown",
      "metadata": {
        "id": "ip7UVobk32GX"
      },
      "source": [
        "Repeat this plot, but redefine $\\phi$ to plot points only from 0 to $\\pi/2$ and from $\\pi$ to $3\\pi/2$, and propagate it throughout. (You can omit various print statements we made along the way)  Your final image should be two sections of the surface of a sphere."
      ]
    },
    {
      "cell_type": "code",
      "execution_count": null,
      "metadata": {
        "id": "XXP74emr32GX"
      },
      "outputs": [],
      "source": [
        "fig = go.Figure()\n",
        "\n",
        "theta = np.linspace(0,pi)\n",
        "phi1 = np.linspace(0,pi/2)\n",
        "\n",
        "thetaGrid, phi1Grid = np.meshgrid(theta, phi1)\n",
        "\n",
        "x = sin(phi1Grid) * cos(thetaGrid)\n",
        "y = sin(phi1Grid) * sin(thetaGrid)\n",
        "z = cos(phi1Grid)\n",
        "\n",
        "fig.add_trace(go.Surface(x=x, y=y, z=z))\n",
        "\n",
        "\n",
        "\n",
        "phi2 = np.linspace(pi,3*pi/2)\n",
        "\n",
        "thetaGrid, phi2Grid = np.meshgrid(theta, phi2)\n",
        "\n",
        "x = sin(phi2Grid) * cos(thetaGrid)\n",
        "y = sin(phi2Grid) * sin(thetaGrid)\n",
        "z = cos(phi2Grid)\n",
        "\n",
        "fig.add_trace(go.Surface(x=x, y=y, z=z))\n",
        "\n",
        "\n",
        "\n",
        "fig.show()"
      ]
    },
    {
      "cell_type": "markdown",
      "source": [
        "### Caption\n",
        "This is a 3D surface plot showing two sections of a unit sphere where the azimuth angle was restricted to (0 - pi/2) and (pi - 3pi/2) so only opposite quarters are showing constructed using spherical coordinates."
      ],
      "metadata": {
        "id": "7wDGvrJa2RJY"
      }
    },
    {
      "cell_type": "markdown",
      "metadata": {
        "id": "2VW05Miv32GX"
      },
      "source": [
        "# Cylindrical geometry"
      ]
    },
    {
      "cell_type": "markdown",
      "metadata": {
        "id": "FDYO-Qer32GX"
      },
      "source": [
        "Let's also explore cylindrical geometry. Plot the wall of an open ended cylinder of an arbitrary height and radius. You probably want to redefine the mesh grid with appropriate variables, $\\theta$ and $r$"
      ]
    },
    {
      "cell_type": "code",
      "execution_count": null,
      "metadata": {
        "id": "Csnb9CuQ32GY"
      },
      "outputs": [],
      "source": [
        "fig = go.Figure()\n",
        "\n",
        "r = 2\n",
        "h = 2\n",
        "\n",
        "theta = np.linspace(0, 2*pi)\n",
        "z = np.linspace(0,h)\n",
        "\n",
        "thetaGrid, zGrid = np.meshgrid(theta, z)\n",
        "\n",
        "x = r * cos(thetaGrid)\n",
        "y = r * sin(thetaGrid)\n",
        "z = zGrid\n",
        "\n",
        "fig.add_trace(go.Surface(x=x, y=y, z=z))\n",
        "\n",
        "fig.show()"
      ]
    },
    {
      "cell_type": "markdown",
      "source": [
        "### Caption\n",
        "This is a 3D surface plot of a open ended cylinder with arbitrary radius r and height h constructed using cyllindrical coordinates."
      ],
      "metadata": {
        "id": "EIwrXVqUs5Co"
      }
    },
    {
      "cell_type": "markdown",
      "metadata": {
        "id": "fY2PCuhV32GY"
      },
      "source": [
        "We can do much more complex shapes. Try to implement parametrization from this page: https://en.wikipedia.org/wiki/Seashell_surface\n",
        "\n",
        "$$x=\\frac{5}{4}\\left(1-\\frac{v}{2\\pi}\\right)\\cos (2v)(1+\\cos u)+\\cos 2v$$\n",
        "$$y=\\frac{5}{4}\\left(1-\\frac{v}{2\\pi}\\right)\\sin (2v)(1+\\cos u)+\\sin 2v$$\n",
        "$$z=\\frac{10v}{2\\pi}+\\frac{5}{4}\\left(1-\\frac{v}{2\\pi}\\right)\\sin(u)+15$$\n",
        "\n",
        "where $0\\leq u<2\\pi$ and $-2\\pi\\leq v <2\\pi$\n",
        "\n",
        "When writing fractions such as 5/4, make sure you write it as 5/4. The period after the 4 will ensure that the number is a float rather than an integer because floating point divison and integer division usually produce different results (the difference between 1.25 and 1).\n",
        "\n",
        "Be mindful of the order of operations, being very juditious about where to put parentheses - but try to avoid overusing them as that would make your code more difficult to read.\n",
        "\n",
        "Also, what may seem obvious to you may not be obvious to the computer, i.e., it wouldn't know what 2v is, you need to be explicit, 2\\*v, or a*(b+c) instead of a(b+c)."
      ]
    },
    {
      "cell_type": "code",
      "execution_count": null,
      "metadata": {
        "id": "emstau6t32GY"
      },
      "outputs": [],
      "source": [
        "u = np.linspace(0, 2*pi)\n",
        "v = np.linspace(-2*pi, 2*pi)\n",
        "\n",
        "fig = go.Figure()\n",
        "\n",
        "uGrid, vGrid = np.meshgrid(u,v)\n",
        "\n",
        "A = (5/4.)*(1-vGrid/(2*pi))\n",
        "\n",
        "x = A*cos(2*vGrid)*(1+cos(uGrid))+cos(2*vGrid)\n",
        "y = A*sin(2*vGrid)*(1+cos(uGrid))+sin(2*vGrid)\n",
        "z = (10*vGrid/(2*pi))+A*sin(uGrid)+15\n",
        "\n",
        "fig.add_trace(go.Surface(x=x, y=y, z=z))\n",
        "\n",
        "fig.show()"
      ]
    },
    {
      "cell_type": "markdown",
      "source": [
        "### Caption\n",
        "\n",
        "This is a 3D surface plot of a seashell shape constructed using cartesian coordinates."
      ],
      "metadata": {
        "id": "rWa8dqHvusup"
      }
    },
    {
      "cell_type": "markdown",
      "metadata": {
        "id": "CFjt8iex32GZ"
      },
      "source": [
        "# Sliders"
      ]
    },
    {
      "cell_type": "markdown",
      "metadata": {
        "id": "RKcxpeGc32GZ"
      },
      "source": [
        "We are not restricted to 3 dimensions, we can add in the fourth dimension (aka, time), and create animations. The process for it is somewhat clunky, basically, we need to add in several frames and change their visibility as the slider is being moved.\n",
        "\n",
        "Let's use the for loop and add 10 traces, plotting a sphere with increasing radius from 1 to 2.  You will need to fill in the appropriate expressions for x,y,z in the code below."
      ]
    },
    {
      "cell_type": "code",
      "execution_count": null,
      "metadata": {
        "id": "rnaTf5uq32GZ"
      },
      "outputs": [],
      "source": [
        "theta=np.linspace(0,pi,100)\n",
        "phi=np.linspace(0,2*pi,100)\n",
        "thetaGrid, phiGrid = np.meshgrid(theta,phi)\n",
        "\n",
        "\n",
        "fig = go.Figure()\n",
        "\n",
        "for r in np.arange(1, 2, 0.1):\n",
        "    fig.add_trace(\n",
        "        go.Surface(\n",
        "            visible = False,\n",
        "            x = r * sin(phiGrid) * cos(thetaGrid),\n",
        "            y = r * sin(phiGrid) * sin(thetaGrid),\n",
        "            z = r * cos(phiGrid)\n",
        "        )\n",
        "    )\n",
        "fig.data[0].visible=True\n",
        "\n",
        "\n",
        "\n",
        "# Createing and add slider\n",
        "steps = []\n",
        "for i in range(len(fig.data)):\n",
        "    step = dict(\n",
        "        method=\"update\",\n",
        "        args=[{\"visible\": [False] * len(fig.data)}],  # layout attribute\n",
        "    )\n",
        "    step[\"args\"][0][\"visible\"][i] = True  # Toggling i'th trace to \"visible\"\n",
        "    steps.append(step)\n",
        "\n",
        "sliders = [dict(\n",
        "    active=0,\n",
        "    steps=steps\n",
        ")]\n",
        "\n",
        "fig.update_layout(\n",
        "    sliders=sliders\n",
        ")\n",
        "\n",
        "\n",
        "fig.update_layout(\n",
        "    scene = dict(\n",
        "        xaxis = dict(nticks=4, range=[-2,2],),\n",
        "        yaxis = dict(nticks=4, range=[-2,2],),\n",
        "        zaxis = dict(nticks=4, range=[-2,2],),\n",
        "    ),\n",
        "    scene_aspectratio=dict(x=1, y=1, z=1)\n",
        ")\n",
        "\n",
        "fig.show()"
      ]
    },
    {
      "cell_type": "markdown",
      "source": [
        "### Caption\n",
        "This is a 3D surface plot of a sphere that has sliders that can increase its radius from 1 to 2."
      ],
      "metadata": {
        "id": "FILarrxFv772"
      }
    },
    {
      "cell_type": "markdown",
      "metadata": {
        "id": "HfAExGeM32Ga"
      },
      "source": [
        "---\n",
        "# Extra credit:\n",
        "\n",
        "Using np.linspace, take xyz array for a sphere, and xyz array for an open-ended cylinder as end-points, and use a slider to smoothly transform from one to another. Does it transform in the manner you expected? Why or why not?"
      ]
    },
    {
      "cell_type": "code",
      "execution_count": null,
      "metadata": {
        "id": "gW-YAF_z32Ga"
      },
      "outputs": [],
      "source": [
        "fig = go.Figure()\n",
        "\n",
        "theta = np.linspace(0,pi)\n",
        "phi = np.linspace(0,2*pi)\n",
        "\n",
        "thetaGrid, phiGrid = np.meshgrid(theta, phi)\n",
        "\n",
        "xs = sin(phiGrid) * cos(thetaGrid)\n",
        "ys = sin(phiGrid) * sin(thetaGrid)\n",
        "zs = cos(phiGrid)\n",
        "\n",
        "xc = cos(phiGrid)\n",
        "yc = sin(phiGrid)\n",
        "zc = cos(thetaGrid)\n",
        "\n",
        "for r in np.arange(0, 1, 0.1):\n",
        "    fig.add_trace(\n",
        "        go.Surface(\n",
        "            visible = False,\n",
        "            x = (1-r)*xs + r*xc,\n",
        "            y = (1-r)*ys + r*yc,\n",
        "            z = (1-r)*zs + r*zc\n",
        "        )\n",
        "    )\n",
        "fig.data[0].visible=True\n",
        "\n",
        "steps = []\n",
        "for i in range(len(fig.data)):\n",
        "    step = dict(\n",
        "        method=\"update\",\n",
        "        args=[{\"visible\": [False] * len(fig.data)}],  # layout attribute\n",
        "    )\n",
        "    step[\"args\"][0][\"visible\"][i] = True  # Toggling i'th trace to \"visible\"\n",
        "    steps.append(step)\n",
        "\n",
        "sliders = [dict(\n",
        "    active=0,\n",
        "    steps=steps\n",
        ")]\n",
        "\n",
        "fig.update_layout(\n",
        "    sliders=sliders\n",
        ")\n",
        "\n",
        "fig.update_layout(\n",
        "    scene = dict(\n",
        "        xaxis = dict(nticks=4, range=[-2,2],),\n",
        "        yaxis = dict(nticks=4, range=[-2,2],),\n",
        "        zaxis = dict(nticks=4, range=[-2,2],),\n",
        "    ),\n",
        "    scene_aspectratio=dict(x=1, y=1, z=1)\n",
        ")\n",
        "\n",
        "fig.show()"
      ]
    },
    {
      "cell_type": "markdown",
      "source": [
        "###Caption\n",
        "This is a 3D surface plot of a sphere that has sliders that can convert it into a cyllinder. It does not transform how I would expect, it sort of implodes and twists into a ribbon before it rounds back out into a cylinder. I would have expected the sphere to maintain its roundness and then kind of just remove its top and bottom to become a cylinder."
      ],
      "metadata": {
        "id": "pVIJqdmZAZ6r"
      }
    }
  ],
  "metadata": {
    "kernelspec": {
      "display_name": "Python 3",
      "name": "python3"
    },
    "language_info": {
      "codemirror_mode": {
        "name": "ipython",
        "version": 3
      },
      "file_extension": ".py",
      "mimetype": "text/x-python",
      "name": "python",
      "nbconvert_exporter": "python",
      "pygments_lexer": "ipython3",
      "version": "3.9.7"
    },
    "colab": {
      "provenance": [],
      "generative_ai_disabled": true,
      "include_colab_link": true
    }
  },
  "nbformat": 4,
  "nbformat_minor": 0
}